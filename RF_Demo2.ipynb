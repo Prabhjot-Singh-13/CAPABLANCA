{
 "cells": [
  {
   "cell_type": "code",
   "execution_count": 2,
   "metadata": {},
   "outputs": [],
   "source": [
    "import pandas as pd\n",
    "from sklearn.model_selection import train_test_split\n",
    "from sklearn.ensemble import RandomForestClassifier\n",
    "from sklearn.preprocessing import LabelEncoder\n",
    "import re"
   ]
  },
  {
   "cell_type": "code",
   "execution_count": 3,
   "metadata": {},
   "outputs": [],
   "source": [
    "# Load the dataset\n",
    "data_path = '/Users/kalyani/Desktop/AIP/data_cleaning/women_clean_data.csv'  # Update this path\n",
    "df = pd.read_csv(data_path)"
   ]
  },
  {
   "cell_type": "code",
   "execution_count": 4,
   "metadata": {},
   "outputs": [
    {
     "name": "stdout",
     "output_type": "stream",
     "text": [
      "Data Types:\n",
      "White          object\n",
      "Black          object\n",
      "Result         object\n",
      "TimeControl    object\n",
      "Moves          object\n",
      "dtype: object\n",
      "\n",
      "Missing Values:\n",
      "White            0\n",
      "Black            0\n",
      "Result           0\n",
      "TimeControl    137\n",
      "Moves           71\n",
      "dtype: int64\n"
     ]
    }
   ],
   "source": [
    "# Check data types\n",
    "print(\"Data Types:\")\n",
    "print(df.dtypes)\n",
    "\n",
    "# Check for missing values\n",
    "print(\"\\nMissing Values:\")\n",
    "print(df.isnull().sum())"
   ]
  },
  {
   "cell_type": "code",
   "execution_count": 5,
   "metadata": {},
   "outputs": [],
   "source": [
    "# Ensure Moves are strings and handle any NaNs\n",
    "df['Moves'] = df['Moves'].astype(str).replace('nan', '')"
   ]
  },
  {
   "cell_type": "code",
   "execution_count": 6,
   "metadata": {},
   "outputs": [],
   "source": [
    "# Use Pandas for splitting moves more efficiently and validate chess moves\n",
    "df['ValidMoves'] = df['Moves'].apply(lambda x: [move for move in x.split() if re.match(r'^[a-h][1-8][qrbn]?$|^[KQRBNA]?x?[a-h][1-8]|O-O(-O)?$', move)])"
   ]
  },
  {
   "cell_type": "code",
   "execution_count": 7,
   "metadata": {},
   "outputs": [],
   "source": [
    "# Filter out rows where there are fewer than 2 valid moves\n",
    "df = df[df['ValidMoves'].apply(len) > 1]\n",
    "\n",
    "# Create the next_moves DataFrame\n",
    "next_moves = []\n",
    "for index, row in df.iterrows():\n",
    "    valid_moves = row['ValidMoves']\n",
    "    for i in range(len(valid_moves) - 1):\n",
    "        next_moves.append({\n",
    "            'White': row['White'],\n",
    "            'Black': row['Black'],\n",
    "            'Result': row['Result'],\n",
    "            'TimeControl': row['TimeControl'],\n",
    "            'CurrentMove': valid_moves[i],\n",
    "            'NextMove': valid_moves[i + 1]\n",
    "        })\n",
    "\n",
    "next_moves_df = pd.DataFrame(next_moves)"
   ]
  },
  {
   "cell_type": "code",
   "execution_count": 8,
   "metadata": {},
   "outputs": [
    {
     "data": {
      "text/html": [
       "<div>\n",
       "<style scoped>\n",
       "    .dataframe tbody tr th:only-of-type {\n",
       "        vertical-align: middle;\n",
       "    }\n",
       "\n",
       "    .dataframe tbody tr th {\n",
       "        vertical-align: top;\n",
       "    }\n",
       "\n",
       "    .dataframe thead th {\n",
       "        text-align: right;\n",
       "    }\n",
       "</style>\n",
       "<table border=\"1\" class=\"dataframe\">\n",
       "  <thead>\n",
       "    <tr style=\"text-align: right;\">\n",
       "      <th></th>\n",
       "      <th>White</th>\n",
       "      <th>Black</th>\n",
       "      <th>Result</th>\n",
       "      <th>TimeControl</th>\n",
       "      <th>CurrentMove</th>\n",
       "      <th>NextMove</th>\n",
       "    </tr>\n",
       "  </thead>\n",
       "  <tbody>\n",
       "    <tr>\n",
       "      <th>0</th>\n",
       "      <td>Goryachkina, Aleksandra</td>\n",
       "      <td>Koutlas, Nikolaos</td>\n",
       "      <td>1-0</td>\n",
       "      <td>180+2</td>\n",
       "      <td>e4</td>\n",
       "      <td>c5</td>\n",
       "    </tr>\n",
       "    <tr>\n",
       "      <th>1</th>\n",
       "      <td>Goryachkina, Aleksandra</td>\n",
       "      <td>Koutlas, Nikolaos</td>\n",
       "      <td>1-0</td>\n",
       "      <td>180+2</td>\n",
       "      <td>c5</td>\n",
       "      <td>Nf3</td>\n",
       "    </tr>\n",
       "    <tr>\n",
       "      <th>2</th>\n",
       "      <td>Goryachkina, Aleksandra</td>\n",
       "      <td>Koutlas, Nikolaos</td>\n",
       "      <td>1-0</td>\n",
       "      <td>180+2</td>\n",
       "      <td>Nf3</td>\n",
       "      <td>d6</td>\n",
       "    </tr>\n",
       "    <tr>\n",
       "      <th>3</th>\n",
       "      <td>Goryachkina, Aleksandra</td>\n",
       "      <td>Koutlas, Nikolaos</td>\n",
       "      <td>1-0</td>\n",
       "      <td>180+2</td>\n",
       "      <td>d6</td>\n",
       "      <td>Bb5+</td>\n",
       "    </tr>\n",
       "    <tr>\n",
       "      <th>4</th>\n",
       "      <td>Goryachkina, Aleksandra</td>\n",
       "      <td>Koutlas, Nikolaos</td>\n",
       "      <td>1-0</td>\n",
       "      <td>180+2</td>\n",
       "      <td>Bb5+</td>\n",
       "      <td>Nd7</td>\n",
       "    </tr>\n",
       "    <tr>\n",
       "      <th>...</th>\n",
       "      <td>...</td>\n",
       "      <td>...</td>\n",
       "      <td>...</td>\n",
       "      <td>...</td>\n",
       "      <td>...</td>\n",
       "      <td>...</td>\n",
       "    </tr>\n",
       "    <tr>\n",
       "      <th>1014066</th>\n",
       "      <td>Shuvalova, Polina</td>\n",
       "      <td>Necromon</td>\n",
       "      <td>0-1</td>\n",
       "      <td>180+2</td>\n",
       "      <td>Re1</td>\n",
       "      <td>Kd7</td>\n",
       "    </tr>\n",
       "    <tr>\n",
       "      <th>1014067</th>\n",
       "      <td>Shuvalova, Polina</td>\n",
       "      <td>Necromon</td>\n",
       "      <td>0-1</td>\n",
       "      <td>180+2</td>\n",
       "      <td>Kd7</td>\n",
       "      <td>Re6</td>\n",
       "    </tr>\n",
       "    <tr>\n",
       "      <th>1014068</th>\n",
       "      <td>Shuvalova, Polina</td>\n",
       "      <td>Necromon</td>\n",
       "      <td>0-1</td>\n",
       "      <td>180+2</td>\n",
       "      <td>Re6</td>\n",
       "      <td>Rh7</td>\n",
       "    </tr>\n",
       "    <tr>\n",
       "      <th>1014069</th>\n",
       "      <td>Shuvalova, Polina</td>\n",
       "      <td>Necromon</td>\n",
       "      <td>0-1</td>\n",
       "      <td>180+2</td>\n",
       "      <td>Rh7</td>\n",
       "      <td>Rf6</td>\n",
       "    </tr>\n",
       "    <tr>\n",
       "      <th>1014070</th>\n",
       "      <td>Shuvalova, Polina</td>\n",
       "      <td>Necromon</td>\n",
       "      <td>0-1</td>\n",
       "      <td>180+2</td>\n",
       "      <td>Rf6</td>\n",
       "      <td>Ke7</td>\n",
       "    </tr>\n",
       "  </tbody>\n",
       "</table>\n",
       "<p>1014071 rows × 6 columns</p>\n",
       "</div>"
      ],
      "text/plain": [
       "                           White              Black Result TimeControl  \\\n",
       "0        Goryachkina, Aleksandra  Koutlas, Nikolaos    1-0       180+2   \n",
       "1        Goryachkina, Aleksandra  Koutlas, Nikolaos    1-0       180+2   \n",
       "2        Goryachkina, Aleksandra  Koutlas, Nikolaos    1-0       180+2   \n",
       "3        Goryachkina, Aleksandra  Koutlas, Nikolaos    1-0       180+2   \n",
       "4        Goryachkina, Aleksandra  Koutlas, Nikolaos    1-0       180+2   \n",
       "...                          ...                ...    ...         ...   \n",
       "1014066        Shuvalova, Polina           Necromon    0-1       180+2   \n",
       "1014067        Shuvalova, Polina           Necromon    0-1       180+2   \n",
       "1014068        Shuvalova, Polina           Necromon    0-1       180+2   \n",
       "1014069        Shuvalova, Polina           Necromon    0-1       180+2   \n",
       "1014070        Shuvalova, Polina           Necromon    0-1       180+2   \n",
       "\n",
       "        CurrentMove NextMove  \n",
       "0                e4       c5  \n",
       "1                c5      Nf3  \n",
       "2               Nf3       d6  \n",
       "3                d6     Bb5+  \n",
       "4              Bb5+      Nd7  \n",
       "...             ...      ...  \n",
       "1014066         Re1      Kd7  \n",
       "1014067         Kd7      Re6  \n",
       "1014068         Re6      Rh7  \n",
       "1014069         Rh7      Rf6  \n",
       "1014070         Rf6      Ke7  \n",
       "\n",
       "[1014071 rows x 6 columns]"
      ]
     },
     "execution_count": 8,
     "metadata": {},
     "output_type": "execute_result"
    }
   ],
   "source": [
    "next_moves_df"
   ]
  },
  {
   "cell_type": "code",
   "execution_count": 9,
   "metadata": {},
   "outputs": [
    {
     "name": "stdout",
     "output_type": "stream",
     "text": [
      "\n",
      "Next Moves DataFrame:\n",
      "                     White              Black Result TimeControl CurrentMove  \\\n",
      "0  Goryachkina, Aleksandra  Koutlas, Nikolaos    1-0       180+2          e4   \n",
      "1  Goryachkina, Aleksandra  Koutlas, Nikolaos    1-0       180+2          c5   \n",
      "2  Goryachkina, Aleksandra  Koutlas, Nikolaos    1-0       180+2         Nf3   \n",
      "3  Goryachkina, Aleksandra  Koutlas, Nikolaos    1-0       180+2          d6   \n",
      "4  Goryachkina, Aleksandra  Koutlas, Nikolaos    1-0       180+2        Bb5+   \n",
      "\n",
      "  NextMove  \n",
      "0       c5  \n",
      "1      Nf3  \n",
      "2       d6  \n",
      "3     Bb5+  \n",
      "4      Nd7  \n"
     ]
    }
   ],
   "source": [
    "# Check the new DataFrame\n",
    "print(\"\\nNext Moves DataFrame:\")\n",
    "print(next_moves_df.head())"
   ]
  },
  {
   "cell_type": "code",
   "execution_count": 10,
   "metadata": {},
   "outputs": [],
   "source": [
    "# Encode categorical variables\n",
    "label_encoders = {}\n",
    "for column in ['White', 'Black', 'Result', 'TimeControl', 'CurrentMove', 'NextMove']:\n",
    "    le = LabelEncoder()\n",
    "    next_moves_df[column] = le.fit_transform(next_moves_df[column])\n",
    "    label_encoders[column] = le  # Store label encoder for future use"
   ]
  },
  {
   "cell_type": "code",
   "execution_count": 11,
   "metadata": {},
   "outputs": [],
   "source": [
    "# Optimize data types to reduce memory usage\n",
    "next_moves_df['White'] = next_moves_df['White'].astype('int32')\n",
    "next_moves_df['Black'] = next_moves_df['Black'].astype('int32')\n",
    "next_moves_df['Result'] = next_moves_df['Result'].astype('int32')\n",
    "next_moves_df['TimeControl'] = next_moves_df['TimeControl'].astype('int32')\n",
    "next_moves_df['CurrentMove'] = next_moves_df['CurrentMove'].astype('int32')\n",
    "next_moves_df['NextMove'] = next_moves_df['NextMove'].astype('int32')\n",
    "\n",
    "# Prepare features and target variable\n",
    "X = next_moves_df[['White', 'Black', 'Result', 'TimeControl', 'CurrentMove']]\n",
    "y = next_moves_df['NextMove']"
   ]
  },
  {
   "cell_type": "code",
   "execution_count": 12,
   "metadata": {},
   "outputs": [],
   "source": [
    "# Split the dataset into training and testing sets\n",
    "X_train, X_test, y_train, y_test = train_test_split(X, y, test_size=0.2, random_state=42)"
   ]
  },
  {
   "cell_type": "code",
   "execution_count": 13,
   "metadata": {},
   "outputs": [
    {
     "name": "stderr",
     "output_type": "stream",
     "text": [
      "[Parallel(n_jobs=1)]: Using backend SequentialBackend with 1 concurrent workers.\n"
     ]
    },
    {
     "name": "stdout",
     "output_type": "stream",
     "text": [
      "building tree 1 of 50\n"
     ]
    },
    {
     "name": "stderr",
     "output_type": "stream",
     "text": [
      "[Parallel(n_jobs=1)]: Done   1 out of   1 | elapsed:    0.7s remaining:    0.0s\n"
     ]
    },
    {
     "name": "stdout",
     "output_type": "stream",
     "text": [
      "building tree 2 of 50\n",
      "building tree 3 of 50\n",
      "building tree 4 of 50\n",
      "building tree 5 of 50\n",
      "building tree 6 of 50\n",
      "building tree 7 of 50\n",
      "building tree 8 of 50\n",
      "building tree 9 of 50\n",
      "building tree 10 of 50\n",
      "building tree 11 of 50\n",
      "building tree 12 of 50\n",
      "building tree 13 of 50\n",
      "building tree 14 of 50\n",
      "building tree 15 of 50\n",
      "building tree 16 of 50\n",
      "building tree 17 of 50\n",
      "building tree 18 of 50\n",
      "building tree 19 of 50\n",
      "building tree 20 of 50\n",
      "building tree 21 of 50\n",
      "building tree 22 of 50\n",
      "building tree 23 of 50\n",
      "building tree 24 of 50\n",
      "building tree 25 of 50\n",
      "building tree 26 of 50\n",
      "building tree 27 of 50\n",
      "building tree 28 of 50\n",
      "building tree 29 of 50\n",
      "building tree 30 of 50\n",
      "building tree 31 of 50\n",
      "building tree 32 of 50\n",
      "building tree 33 of 50\n",
      "building tree 34 of 50\n",
      "building tree 35 of 50\n",
      "building tree 36 of 50\n",
      "building tree 37 of 50\n",
      "building tree 38 of 50\n",
      "building tree 39 of 50\n",
      "building tree 40 of 50\n",
      "building tree 41 of 50\n",
      "building tree 42 of 50\n",
      "building tree 43 of 50\n",
      "building tree 44 of 50\n",
      "building tree 45 of 50\n",
      "building tree 46 of 50\n",
      "building tree 47 of 50\n",
      "building tree 48 of 50\n",
      "building tree 49 of 50\n",
      "building tree 50 of 50\n"
     ]
    },
    {
     "name": "stderr",
     "output_type": "stream",
     "text": [
      "[Parallel(n_jobs=1)]: Done  50 out of  50 | elapsed:   35.5s finished\n"
     ]
    },
    {
     "data": {
      "text/html": [
       "<style>#sk-container-id-1 {color: black;}#sk-container-id-1 pre{padding: 0;}#sk-container-id-1 div.sk-toggleable {background-color: white;}#sk-container-id-1 label.sk-toggleable__label {cursor: pointer;display: block;width: 100%;margin-bottom: 0;padding: 0.3em;box-sizing: border-box;text-align: center;}#sk-container-id-1 label.sk-toggleable__label-arrow:before {content: \"▸\";float: left;margin-right: 0.25em;color: #696969;}#sk-container-id-1 label.sk-toggleable__label-arrow:hover:before {color: black;}#sk-container-id-1 div.sk-estimator:hover label.sk-toggleable__label-arrow:before {color: black;}#sk-container-id-1 div.sk-toggleable__content {max-height: 0;max-width: 0;overflow: hidden;text-align: left;background-color: #f0f8ff;}#sk-container-id-1 div.sk-toggleable__content pre {margin: 0.2em;color: black;border-radius: 0.25em;background-color: #f0f8ff;}#sk-container-id-1 input.sk-toggleable__control:checked~div.sk-toggleable__content {max-height: 200px;max-width: 100%;overflow: auto;}#sk-container-id-1 input.sk-toggleable__control:checked~label.sk-toggleable__label-arrow:before {content: \"▾\";}#sk-container-id-1 div.sk-estimator input.sk-toggleable__control:checked~label.sk-toggleable__label {background-color: #d4ebff;}#sk-container-id-1 div.sk-label input.sk-toggleable__control:checked~label.sk-toggleable__label {background-color: #d4ebff;}#sk-container-id-1 input.sk-hidden--visually {border: 0;clip: rect(1px 1px 1px 1px);clip: rect(1px, 1px, 1px, 1px);height: 1px;margin: -1px;overflow: hidden;padding: 0;position: absolute;width: 1px;}#sk-container-id-1 div.sk-estimator {font-family: monospace;background-color: #f0f8ff;border: 1px dotted black;border-radius: 0.25em;box-sizing: border-box;margin-bottom: 0.5em;}#sk-container-id-1 div.sk-estimator:hover {background-color: #d4ebff;}#sk-container-id-1 div.sk-parallel-item::after {content: \"\";width: 100%;border-bottom: 1px solid gray;flex-grow: 1;}#sk-container-id-1 div.sk-label:hover label.sk-toggleable__label {background-color: #d4ebff;}#sk-container-id-1 div.sk-serial::before {content: \"\";position: absolute;border-left: 1px solid gray;box-sizing: border-box;top: 0;bottom: 0;left: 50%;z-index: 0;}#sk-container-id-1 div.sk-serial {display: flex;flex-direction: column;align-items: center;background-color: white;padding-right: 0.2em;padding-left: 0.2em;position: relative;}#sk-container-id-1 div.sk-item {position: relative;z-index: 1;}#sk-container-id-1 div.sk-parallel {display: flex;align-items: stretch;justify-content: center;background-color: white;position: relative;}#sk-container-id-1 div.sk-item::before, #sk-container-id-1 div.sk-parallel-item::before {content: \"\";position: absolute;border-left: 1px solid gray;box-sizing: border-box;top: 0;bottom: 0;left: 50%;z-index: -1;}#sk-container-id-1 div.sk-parallel-item {display: flex;flex-direction: column;z-index: 1;position: relative;background-color: white;}#sk-container-id-1 div.sk-parallel-item:first-child::after {align-self: flex-end;width: 50%;}#sk-container-id-1 div.sk-parallel-item:last-child::after {align-self: flex-start;width: 50%;}#sk-container-id-1 div.sk-parallel-item:only-child::after {width: 0;}#sk-container-id-1 div.sk-dashed-wrapped {border: 1px dashed gray;margin: 0 0.4em 0.5em 0.4em;box-sizing: border-box;padding-bottom: 0.4em;background-color: white;}#sk-container-id-1 div.sk-label label {font-family: monospace;font-weight: bold;display: inline-block;line-height: 1.2em;}#sk-container-id-1 div.sk-label-container {text-align: center;}#sk-container-id-1 div.sk-container {/* jupyter's `normalize.less` sets `[hidden] { display: none; }` but bootstrap.min.css set `[hidden] { display: none !important; }` so we also need the `!important` here to be able to override the default hidden behavior on the sphinx rendered scikit-learn.org. See: https://github.com/scikit-learn/scikit-learn/issues/21755 */display: inline-block !important;position: relative;}#sk-container-id-1 div.sk-text-repr-fallback {display: none;}</style><div id=\"sk-container-id-1\" class=\"sk-top-container\"><div class=\"sk-text-repr-fallback\"><pre>RandomForestClassifier(max_depth=10, n_estimators=50, n_jobs=1, random_state=42,\n",
       "                       verbose=2)</pre><b>In a Jupyter environment, please rerun this cell to show the HTML representation or trust the notebook. <br />On GitHub, the HTML representation is unable to render, please try loading this page with nbviewer.org.</b></div><div class=\"sk-container\" hidden><div class=\"sk-item\"><div class=\"sk-estimator sk-toggleable\"><input class=\"sk-toggleable__control sk-hidden--visually\" id=\"sk-estimator-id-1\" type=\"checkbox\" checked><label for=\"sk-estimator-id-1\" class=\"sk-toggleable__label sk-toggleable__label-arrow\">RandomForestClassifier</label><div class=\"sk-toggleable__content\"><pre>RandomForestClassifier(max_depth=10, n_estimators=50, n_jobs=1, random_state=42,\n",
       "                       verbose=2)</pre></div></div></div></div></div>"
      ],
      "text/plain": [
       "RandomForestClassifier(max_depth=10, n_estimators=50, n_jobs=1, random_state=42,\n",
       "                       verbose=2)"
      ]
     },
     "execution_count": 13,
     "metadata": {},
     "output_type": "execute_result"
    }
   ],
   "source": [
    "# Train the Random Forest model with reduced number of estimators and max depth to prevent memory issues\n",
    "rf_model = RandomForestClassifier(n_estimators=50, max_depth=10, n_jobs=1, random_state=42, verbose=2)\n",
    "rf_model.fit(X_train, y_train)"
   ]
  },
  {
   "cell_type": "code",
   "execution_count": 14,
   "metadata": {},
   "outputs": [
    {
     "name": "stderr",
     "output_type": "stream",
     "text": [
      "[Parallel(n_jobs=1)]: Using backend SequentialBackend with 1 concurrent workers.\n",
      "[Parallel(n_jobs=1)]: Done   1 out of   1 | elapsed:    2.6s remaining:    0.0s\n",
      "[Parallel(n_jobs=1)]: Done  50 out of  50 | elapsed:  2.1min finished\n"
     ]
    },
    {
     "name": "stdout",
     "output_type": "stream",
     "text": [
      "\n",
      "Model Accuracy: 0.046638562236520964\n"
     ]
    }
   ],
   "source": [
    "# Check the accuracy\n",
    "accuracy = rf_model.score(X_test, y_test)\n",
    "print(\"\\nModel Accuracy:\", accuracy)"
   ]
  },
  {
   "cell_type": "code",
   "execution_count": 17,
   "metadata": {},
   "outputs": [
    {
     "name": "stderr",
     "output_type": "stream",
     "text": [
      "[Parallel(n_jobs=1)]: Using backend SequentialBackend with 1 concurrent workers.\n",
      "[Parallel(n_jobs=1)]: Done   1 out of   1 | elapsed:    2.1s remaining:    0.0s\n",
      "[Parallel(n_jobs=1)]: Done  50 out of  50 | elapsed:  2.2min finished\n"
     ]
    },
    {
     "name": "stdout",
     "output_type": "stream",
     "text": [
      "\n",
      "Predictions on the test set:\n",
      "[ 361 1427  719 ... 1555  719  351]\n",
      "\n",
      "Actual vs Predicted:\n",
      "        Actual  Predicted\n",
      "573788     352        361\n",
      "634281     498       1427\n",
      "547581    1003        719\n",
      "533130      58        719\n",
      "283739     201        719\n"
     ]
    }
   ],
   "source": [
    "# Make predictions\n",
    "y_pred = rf_model.predict(X_test)\n",
    "\n",
    "# Display the predictions\n",
    "print(\"\\nPredictions on the test set:\")\n",
    "print(y_pred)\n",
    "\n",
    "# If you want to see the actual vs predicted values\n",
    "results_df = pd.DataFrame({\n",
    "    'Actual': y_test,\n",
    "    'Predicted': y_pred\n",
    "})\n",
    "\n",
    "print(\"\\nActual vs Predicted:\")\n",
    "print(results_df.head())"
   ]
  }
 ],
 "metadata": {
  "kernelspec": {
   "display_name": "base",
   "language": "python",
   "name": "python3"
  },
  "language_info": {
   "codemirror_mode": {
    "name": "ipython",
    "version": 3
   },
   "file_extension": ".py",
   "mimetype": "text/x-python",
   "name": "python",
   "nbconvert_exporter": "python",
   "pygments_lexer": "ipython3",
   "version": "3.10.9"
  }
 },
 "nbformat": 4,
 "nbformat_minor": 2
}
