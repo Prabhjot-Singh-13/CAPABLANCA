{
 "cells": [
  {
   "cell_type": "code",
   "execution_count": 2,
   "metadata": {},
   "outputs": [],
   "source": [
    "import pandas as pd\n",
    "from sklearn.ensemble import RandomForestClassifier\n",
    "from sklearn.model_selection import train_test_split\n",
    "from sklearn.metrics import accuracy_score\n"
   ]
  },
  {
   "cell_type": "code",
   "execution_count": 3,
   "metadata": {},
   "outputs": [],
   "source": [
    "# Load the dataset\n",
    "file_path = 'D:/aip/dataset_withseparatedmovesandtime.csv'  # Replace with your file path\n",
    "data = pd.read_csv(file_path)"
   ]
  },
  {
   "cell_type": "code",
   "execution_count": 7,
   "metadata": {},
   "outputs": [],
   "source": [
    "# Define a function to split moves into White and Black\n",
    "def split_moves(moves):\n",
    "    moves_list = moves.split()  # Split the moves string into a list\n",
    "    white_moves = moves_list[::2]  # Select moves at even indices (White's moves)\n",
    "    black_moves = moves_list[1::2]  # Select moves at odd indices (Black's moves)\n",
    "    return white_moves, black_moves\n",
    "\n",
    "# Apply the function to create two new columns\n",
    "data['WhiteMoves'], data['BlackMoves'] = zip(*data['Moves'].apply(split_moves))\n"
   ]
  },
  {
   "cell_type": "code",
   "execution_count": 8,
   "metadata": {},
   "outputs": [
    {
     "name": "stdout",
     "output_type": "stream",
     "text": [
      "Original Moves: e4 c5 Nf3 Nf6 Nc3 d5 exd5 Nxd5 Bc4 Nxc3 bxc3 e6 O-O Be7 d4 O-O Re1 Qc7 d5 Rd8 Qe2 exd5 Bf4 Qxf4 Qxe7 Rf8 Bxd5 Nc6 Qxc5 Bf5 g3 Qg4 Bxc6 bxc6 Ne5 Qh3 Nxc6 Bxc2 Re2 Bd3 Re3 Ba6 Rae1 h6 Ne7+ Kh8 Nf5 Bb7 f3 Rac8 Qe5 f6 Qe6 Rce8 Qd7\n",
      "White's Moves: ['e4', 'Nf3', 'Nc3', 'exd5', 'Bc4', 'bxc3', 'O-O', 'd4', 'Re1', 'd5', 'Qe2', 'Bf4', 'Qxe7', 'Bxd5', 'Qxc5', 'g3', 'Bxc6', 'Ne5', 'Nxc6', 'Re2', 'Re3', 'Rae1', 'Ne7+', 'Nf5', 'f3', 'Qe5', 'Qe6', 'Qd7']\n",
      "Black's Moves: ['c5', 'Nf6', 'd5', 'Nxd5', 'Nxc3', 'e6', 'Be7', 'O-O', 'Qc7', 'Rd8', 'exd5', 'Qxf4', 'Rf8', 'Nc6', 'Bf5', 'Qg4', 'bxc6', 'Qh3', 'Bxc2', 'Bd3', 'Ba6', 'h6', 'Kh8', 'Bb7', 'Rac8', 'f6', 'Rce8']\n",
      "==================================================\n",
      "Original Moves: e4 Nf6 e5 Nd5 d4 d6 c4 Nb6 exd6 cxd6 Nc3 g6 h3 Bg7 Nf3 O-O Be2 Nc6 O-O Bf5 d5 Na5 Nd4 Naxc4 a4 a5 Nxf5 gxf5 Bd3 e6 Qb3 Ne5 Bc2 Nec4 Rd1 Qc7 Nb5 Qc5 dxe6 fxe6 Bf4 d5 Nc7 Qb4 Nxe6 Qxb3 Bxb3 Bxb2 Ra2 Rf6 Nc7 Rc8 Nxd5 Nxd5 Rxd5 Kf8 Bg5 Rg6 Rxf5+ Ke8 Bxc4 Rxc4 Rxb2 Rc1+ Bxc1\n",
      "White's Moves: ['e4', 'e5', 'd4', 'c4', 'exd6', 'Nc3', 'h3', 'Nf3', 'Be2', 'O-O', 'd5', 'Nd4', 'a4', 'Nxf5', 'Bd3', 'Qb3', 'Bc2', 'Rd1', 'Nb5', 'dxe6', 'Bf4', 'Nc7', 'Nxe6', 'Bxb3', 'Ra2', 'Nc7', 'Nxd5', 'Rxd5', 'Bg5', 'Rxf5+', 'Bxc4', 'Rxb2', 'Bxc1']\n",
      "Black's Moves: ['Nf6', 'Nd5', 'd6', 'Nb6', 'cxd6', 'g6', 'Bg7', 'O-O', 'Nc6', 'Bf5', 'Na5', 'Naxc4', 'a5', 'gxf5', 'e6', 'Ne5', 'Nec4', 'Qc7', 'Qc5', 'fxe6', 'd5', 'Qb4', 'Qxb3', 'Bxb2', 'Rf6', 'Rc8', 'Nxd5', 'Kf8', 'Rg6', 'Ke8', 'Rxc4', 'Rc1+']\n",
      "==================================================\n",
      "Original Moves: d4 Nf6 c4 g6 Nc3 d5 Nf3 Bg7 cxd5 Nxd5 e4 Nxc3 bxc3 c5 Be3 Bg4 Qa4+ Nd7 Be2 O-O Rd1 cxd4 cxd4 Nf6 d5 b5 Qb4 a5 Qb1 b4 O-O Nd7 h3 Bxf3 Bxf3 Nb6 Qb3 Rc8 Rc1 Bc3 Bg4 a4 Qd1 Ra8 Rxc3 bxc3 Qd4 Re8 Rc1 Nd7 Rxc3 Nf6 Bf3 Qa5 e5 Nxd5 Bxd5 Rad8 Rc5 Qe1+ Kh2 e6 Bh6 a3 Rc1 Rxd5 Qa4 Qxe5+ Bf4 Qd4 Qxe8+ Kg7 Be3 Qe5+ g3 Rd3 Bc5 Qd5 Bf8+\n",
      "White's Moves: ['d4', 'c4', 'Nc3', 'Nf3', 'cxd5', 'e4', 'bxc3', 'Be3', 'Qa4+', 'Be2', 'Rd1', 'cxd4', 'd5', 'Qb4', 'Qb1', 'O-O', 'h3', 'Bxf3', 'Qb3', 'Rc1', 'Bg4', 'Qd1', 'Rxc3', 'Qd4', 'Rc1', 'Rxc3', 'Bf3', 'e5', 'Bxd5', 'Rc5', 'Kh2', 'Bh6', 'Rc1', 'Qa4', 'Bf4', 'Qxe8+', 'Be3', 'g3', 'Bc5', 'Bf8+']\n",
      "Black's Moves: ['Nf6', 'g6', 'd5', 'Bg7', 'Nxd5', 'Nxc3', 'c5', 'Bg4', 'Nd7', 'O-O', 'cxd4', 'Nf6', 'b5', 'a5', 'b4', 'Nd7', 'Bxf3', 'Nb6', 'Rc8', 'Bc3', 'a4', 'Ra8', 'bxc3', 'Re8', 'Nd7', 'Nf6', 'Qa5', 'Nxd5', 'Rad8', 'Qe1+', 'e6', 'a3', 'Rxd5', 'Qxe5+', 'Qd4', 'Kg7', 'Qe5+', 'Rd3', 'Qd5']\n",
      "==================================================\n",
      "Original Moves: e4 c5 Nf3 Nc6 Bb5 g6 O-O Bg7 c3 Nf6 Re1 O-O d4 d5 e5 Ne4 Be3 Qb6 Qe2 cxd4 cxd4 Bf5 Nc3 Nxc3 bxc3 Na5 Nh4 Be6 f4 Nc4 Bxc4 dxc4 d5\n",
      "White's Moves: ['e4', 'Nf3', 'Bb5', 'O-O', 'c3', 'Re1', 'd4', 'e5', 'Be3', 'Qe2', 'cxd4', 'Nc3', 'bxc3', 'Nh4', 'f4', 'Bxc4', 'd5']\n",
      "Black's Moves: ['c5', 'Nc6', 'g6', 'Bg7', 'Nf6', 'O-O', 'd5', 'Ne4', 'Qb6', 'cxd4', 'Bf5', 'Nxc3', 'Na5', 'Be6', 'Nc4', 'dxc4']\n",
      "==================================================\n",
      "Original Moves: e4 e5 Nf3 Nc6 Bb5 a6 Ba4 Nge7 c3 d6 d4 Bd7 O-O Ng6 Nbd2 Be7 Re1 O-O Nf1 b5 Bb3 exd4 cxd4 Na5 Bc2 c5 Ne3 Re8 Nd5 Bf8 Bg5 Qb8 h3 Bc6 b4 Nc4 h4 Bxd5 exd5 cxb4 h5 Ne7 Qd3 g6 Nh4 Qc8 hxg6 hxg6 Bxe7 Rxe7 Nxg6 fxg6 Rxe7 Bxe7 Qxg6+ Kf8 Bf5 Qe8 Qh6+\n",
      "White's Moves: ['e4', 'Nf3', 'Bb5', 'Ba4', 'c3', 'd4', 'O-O', 'Nbd2', 'Re1', 'Nf1', 'Bb3', 'cxd4', 'Bc2', 'Ne3', 'Nd5', 'Bg5', 'h3', 'b4', 'h4', 'exd5', 'h5', 'Qd3', 'Nh4', 'hxg6', 'Bxe7', 'Nxg6', 'Rxe7', 'Qxg6+', 'Bf5', 'Qh6+']\n",
      "Black's Moves: ['e5', 'Nc6', 'a6', 'Nge7', 'd6', 'Bd7', 'Ng6', 'Be7', 'O-O', 'b5', 'exd4', 'Na5', 'c5', 'Re8', 'Bf8', 'Qb8', 'Bc6', 'Nc4', 'Bxd5', 'cxb4', 'Ne7', 'g6', 'Qc8', 'hxg6', 'Rxe7', 'fxg6', 'Bxe7', 'Kf8', 'Qe8']\n",
      "==================================================\n"
     ]
    }
   ],
   "source": [
    "# Display the first few rows of the Moves, WhiteMoves, and BlackMoves columns to verify\n",
    "num_rows_to_check = 5  # Adjust this number as needed to check more rows\n",
    "\n",
    "# Print original moves and the corresponding split results for a few rows\n",
    "for index, row in data[['Moves', 'WhiteMoves', 'BlackMoves']].head(num_rows_to_check).iterrows():\n",
    "    print(f\"Original Moves: {row['Moves']}\")\n",
    "    print(f\"White's Moves: {row['WhiteMoves']}\")\n",
    "    print(f\"Black's Moves: {row['BlackMoves']}\")\n",
    "    print(\"=\"*50)  # Separator for clarity\n"
   ]
  },
  {
   "cell_type": "code",
   "execution_count": 11,
   "metadata": {},
   "outputs": [
    {
     "name": "stdout",
     "output_type": "stream",
     "text": [
      "Original MoveTimes: 0:03:00 0:02:56 0:02:59 0:02:55 0:02:58 0:02:54 0:02:58 0:02:55 0:02:58 0:02:53 0:02:59 0:02:32 0:02:58 0:02:32 0:02:58 0:02:32 0:02:58 0:02:29 0:02:56 0:02:25 0:02:47 0:02:08 0:02:47 0:01:40 0:02:47 0:01:40 0:02:47 0:01:40 0:02:40 0:01:09 0:02:38 0:01:07 0:02:23 0:01:08 0:02:23 0:01:08 0:02:20 0:01:04 0:02:08 0:00:59 0:02:08 0:00:47 0:02:03 0:00:39 0:01:48 0:00:39 0:01:48 0:00:28 0:01:45 0:00:29 0:01:30 0:00:26 0:01:23 0:00:02 0:01:22\n",
      "White's Times: ['0:03:00', '0:02:59', '0:02:58', '0:02:58', '0:02:58', '0:02:59', '0:02:58', '0:02:58', '0:02:58', '0:02:56', '0:02:47', '0:02:47', '0:02:47', '0:02:47', '0:02:40', '0:02:38', '0:02:23', '0:02:23', '0:02:20', '0:02:08', '0:02:08', '0:02:03', '0:01:48', '0:01:48', '0:01:45', '0:01:30', '0:01:23', '0:01:22']\n",
      "Black's Times: ['0:02:56', '0:02:55', '0:02:54', '0:02:55', '0:02:53', '0:02:32', '0:02:32', '0:02:32', '0:02:29', '0:02:25', '0:02:08', '0:01:40', '0:01:40', '0:01:40', '0:01:09', '0:01:07', '0:01:08', '0:01:08', '0:01:04', '0:00:59', '0:00:47', '0:00:39', '0:00:39', '0:00:28', '0:00:29', '0:00:26', '0:00:02']\n",
      "---\n",
      "Original MoveTimes: 0:03:00 0:02:59 0:02:59 0:03:00 0:03:00 0:03:00 0:03:00 0:03:00 0:03:00 0:03:00 0:03:00 0:03:01 0:03:00 0:03:01 0:03:01 0:03:02 0:03:01 0:03:02 0:03:01 0:02:58 0:03:00 0:02:56 0:03:00 0:02:44 0:02:59 0:02:41 0:02:58 0:02:41 0:02:55 0:02:31 0:02:43 0:02:10 0:02:39 0:01:40 0:02:31 0:01:31 0:02:29 0:01:31 0:02:25 0:01:28 0:02:20 0:01:22 0:02:15 0:00:55 0:02:06 0:00:46 0:02:07 0:00:42 0:02:05 0:00:38 0:02:02 0:00:32 0:02:00 0:00:29 0:02:00 0:00:14 0:01:40 0:00:11 0:01:39 0:00:09 0:01:39 0:00:06 0:01:39 0:00:04 0:01:38\n",
      "White's Times: ['0:03:00', '0:02:59', '0:03:00', '0:03:00', '0:03:00', '0:03:00', '0:03:00', '0:03:01', '0:03:01', '0:03:01', '0:03:00', '0:03:00', '0:02:59', '0:02:58', '0:02:55', '0:02:43', '0:02:39', '0:02:31', '0:02:29', '0:02:25', '0:02:20', '0:02:15', '0:02:06', '0:02:07', '0:02:05', '0:02:02', '0:02:00', '0:02:00', '0:01:40', '0:01:39', '0:01:39', '0:01:39', '0:01:38']\n",
      "Black's Times: ['0:02:59', '0:03:00', '0:03:00', '0:03:00', '0:03:00', '0:03:01', '0:03:01', '0:03:02', '0:03:02', '0:02:58', '0:02:56', '0:02:44', '0:02:41', '0:02:41', '0:02:31', '0:02:10', '0:01:40', '0:01:31', '0:01:31', '0:01:28', '0:01:22', '0:00:55', '0:00:46', '0:00:42', '0:00:38', '0:00:32', '0:00:29', '0:00:14', '0:00:11', '0:00:09', '0:00:06', '0:00:04']\n",
      "---\n",
      "Original MoveTimes: 1:30:55 1:30:55 1:31:12 1:31:22 1:31:29 1:31:50 1:31:51 1:32:15 1:32:13 1:32:41 1:32:37 1:33:07 1:33:01 1:33:32 1:33:23 1:33:19 1:32:21 1:33:07 1:28:48 1:27:51 1:28:30 1:21:25 1:28:45 1:21:43 1:27:58 1:09:45 1:27:37 1:08:13 1:27:46 1:07:31 1:27:47 0:52:13 1:12:36 0:52:39 1:12:59 0:47:44 1:06:41 0:34:54 1:01:39 0:35:12 0:54:19 0:31:57 0:48:31 0:29:09 0:31:41 0:29:38 0:32:03 0:26:32 0:23:59 0:25:49 0:23:03 0:20:10 0:20:14 0:15:49 0:16:55 0:13:39 0:16:25 0:13:32 0:16:09 0:13:21 0:16:37 0:13:48 0:16:38 0:06:34 0:10:02 0:01:03 0:10:22 0:01:28 0:10:46 0:01:05 0:11:02 0:01:34 0:10:31 0:01:50 0:07:59 0:00:56 0:07:01 0:00:41 0:35:54\n",
      "White's Times: ['1:30:55', '1:31:12', '1:31:29', '1:31:51', '1:32:13', '1:32:37', '1:33:01', '1:33:23', '1:32:21', '1:28:48', '1:28:30', '1:28:45', '1:27:58', '1:27:37', '1:27:46', '1:27:47', '1:12:36', '1:12:59', '1:06:41', '1:01:39', '0:54:19', '0:48:31', '0:31:41', '0:32:03', '0:23:59', '0:23:03', '0:20:14', '0:16:55', '0:16:25', '0:16:09', '0:16:37', '0:16:38', '0:10:02', '0:10:22', '0:10:46', '0:11:02', '0:10:31', '0:07:59', '0:07:01', '0:35:54']\n",
      "Black's Times: ['1:30:55', '1:31:22', '1:31:50', '1:32:15', '1:32:41', '1:33:07', '1:33:32', '1:33:19', '1:33:07', '1:27:51', '1:21:25', '1:21:43', '1:09:45', '1:08:13', '1:07:31', '0:52:13', '0:52:39', '0:47:44', '0:34:54', '0:35:12', '0:31:57', '0:29:09', '0:29:38', '0:26:32', '0:25:49', '0:20:10', '0:15:49', '0:13:39', '0:13:32', '0:13:21', '0:13:48', '0:06:34', '0:01:03', '0:01:28', '0:01:05', '0:01:34', '0:01:50', '0:00:56', '0:00:41']\n",
      "---\n",
      "Original MoveTimes: 0:03:00 0:02:59 0:03:01 0:02:59 0:03:01 0:02:59 0:03:00 0:03:00 0:03:00 0:03:00 0:02:58 0:03:00 0:02:58 0:02:59 0:02:58 0:02:59 0:02:57 0:02:55 0:02:57 0:02:46 0:02:58 0:02:45 0:02:56 0:02:41 0:02:57 0:02:38 0:02:49 0:02:25 0:02:48 0:02:20 0:02:45 0:02:15 0:02:46\n",
      "White's Times: ['0:03:00', '0:03:01', '0:03:01', '0:03:00', '0:03:00', '0:02:58', '0:02:58', '0:02:58', '0:02:57', '0:02:57', '0:02:58', '0:02:56', '0:02:57', '0:02:49', '0:02:48', '0:02:45', '0:02:46']\n",
      "Black's Times: ['0:02:59', '0:02:59', '0:02:59', '0:03:00', '0:03:00', '0:03:00', '0:02:59', '0:02:59', '0:02:55', '0:02:46', '0:02:45', '0:02:41', '0:02:38', '0:02:25', '0:02:20', '0:02:15']\n",
      "---\n",
      "Original MoveTimes: 0:02:58 0:03:00 0:02:57 0:03:00 0:02:57 0:03:01 0:02:57 0:03:01 0:02:56 0:02:55 0:02:56 0:02:56 0:02:55 0:02:54 0:02:52 0:02:51 0:02:52 0:02:51 0:02:52 0:02:48 0:02:52 0:02:26 0:02:51 0:02:26 0:02:49 0:02:26 0:02:34 0:02:16 0:02:32 0:02:13 0:02:31 0:01:53 0:02:07 0:01:33 0:02:01 0:01:24 0:01:56 0:00:37 0:01:56 0:00:35 0:01:53 0:00:32 0:01:49 0:00:32 0:01:45 0:00:22 0:01:41 0:00:19 0:01:40 0:00:09 0:01:39 0:00:07 0:01:37 0:00:08 0:01:37 0:00:08 0:01:35 0:00:00 0:01:35\n",
      "White's Times: ['0:02:58', '0:02:57', '0:02:57', '0:02:57', '0:02:56', '0:02:56', '0:02:55', '0:02:52', '0:02:52', '0:02:52', '0:02:52', '0:02:51', '0:02:49', '0:02:34', '0:02:32', '0:02:31', '0:02:07', '0:02:01', '0:01:56', '0:01:56', '0:01:53', '0:01:49', '0:01:45', '0:01:41', '0:01:40', '0:01:39', '0:01:37', '0:01:37', '0:01:35', '0:01:35']\n",
      "Black's Times: ['0:03:00', '0:03:00', '0:03:01', '0:03:01', '0:02:55', '0:02:56', '0:02:54', '0:02:51', '0:02:51', '0:02:48', '0:02:26', '0:02:26', '0:02:26', '0:02:16', '0:02:13', '0:01:53', '0:01:33', '0:01:24', '0:00:37', '0:00:35', '0:00:32', '0:00:32', '0:00:22', '0:00:19', '0:00:09', '0:00:07', '0:00:08', '0:00:08', '0:00:00']\n",
      "---\n"
     ]
    }
   ],
   "source": [
    "# Function to split move times into white and black\n",
    "def split_move_times(time_sequence):\n",
    "    times = time_sequence.split()\n",
    "    white_times = times[::2]  # White's times are at even indices\n",
    "    black_times = times[1::2]  # Black's times are at odd indices\n",
    "    return white_times, black_times\n",
    "\n",
    "# Apply the function to split times and create two new columns\n",
    "data['WhiteTimes'], data['BlackTimes'] = zip(*data['MoveTimes'].apply(split_move_times))\n",
    "\n",
    "# Verify the split for a few rows\n",
    "num_rows_to_check = 5  # Adjust this number as needed to check more rows\n",
    "for index, row in data[['MoveTimes', 'WhiteTimes', 'BlackTimes']].head(num_rows_to_check).iterrows():\n",
    "    print(f\"Original MoveTimes: {row['MoveTimes']}\")\n",
    "    print(f\"White's Times: {row['WhiteTimes']}\")\n",
    "    print(f\"Black's Times: {row['BlackTimes']}\")\n",
    "    print(\"---\")\n"
   ]
  },
  {
   "cell_type": "code",
   "execution_count": 12,
   "metadata": {},
   "outputs": [
    {
     "name": "stdout",
     "output_type": "stream",
     "text": [
      "Updated data saved to D:/aip/dataset_withseparatedmovesandtime.csv\n"
     ]
    }
   ],
   "source": [
    "# Save the updated DataFrame to a new CSV file\n",
    "output_file_path = 'D:/aip/dataset_withseparatedmovesandtime.csv'\n",
    "data.to_csv(output_file_path, index=False)\n",
    "\n",
    "print(f\"Updated data saved to {output_file_path}\")"
   ]
  }
 ],
 "metadata": {
  "kernelspec": {
   "display_name": "Python 3",
   "language": "python",
   "name": "python3"
  },
  "language_info": {
   "codemirror_mode": {
    "name": "ipython",
    "version": 3
   },
   "file_extension": ".py",
   "mimetype": "text/x-python",
   "name": "python",
   "nbconvert_exporter": "python",
   "pygments_lexer": "ipython3",
   "version": "3.8.10"
  }
 },
 "nbformat": 4,
 "nbformat_minor": 2
}
