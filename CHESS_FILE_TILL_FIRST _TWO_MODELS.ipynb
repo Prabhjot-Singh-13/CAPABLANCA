{
 "cells": [
  {
   "cell_type": "code",
   "execution_count": 1,
   "metadata": {},
   "outputs": [
    {
     "name": "stdout",
     "output_type": "stream",
     "text": [
      "Defaulting to user installation because normal site-packages is not writeableNote: you may need to restart the kernel to use updated packages.\n",
      "\n",
      "Collecting python-chess\n",
      "  Downloading python_chess-1.999-py3-none-any.whl.metadata (776 bytes)\n",
      "Requirement already satisfied: pandas in c:\\users\\hiddensardar\\appdata\\local\\packages\\pythonsoftwarefoundation.python.3.12_qbz5n2kfra8p0\\localcache\\local-packages\\python312\\site-packages (2.2.2)\n",
      "Requirement already satisfied: chess<2,>=1 in c:\\users\\hiddensardar\\appdata\\local\\packages\\pythonsoftwarefoundation.python.3.12_qbz5n2kfra8p0\\localcache\\local-packages\\python312\\site-packages (from python-chess) (1.10.0)\n",
      "Requirement already satisfied: numpy>=1.26.0 in c:\\users\\hiddensardar\\appdata\\local\\packages\\pythonsoftwarefoundation.python.3.12_qbz5n2kfra8p0\\localcache\\local-packages\\python312\\site-packages (from pandas) (1.26.4)\n",
      "Requirement already satisfied: python-dateutil>=2.8.2 in c:\\users\\hiddensardar\\appdata\\local\\packages\\pythonsoftwarefoundation.python.3.12_qbz5n2kfra8p0\\localcache\\local-packages\\python312\\site-packages (from pandas) (2.9.0.post0)\n",
      "Requirement already satisfied: pytz>=2020.1 in c:\\users\\hiddensardar\\appdata\\local\\packages\\pythonsoftwarefoundation.python.3.12_qbz5n2kfra8p0\\localcache\\local-packages\\python312\\site-packages (from pandas) (2024.2)\n",
      "Requirement already satisfied: tzdata>=2022.7 in c:\\users\\hiddensardar\\appdata\\local\\packages\\pythonsoftwarefoundation.python.3.12_qbz5n2kfra8p0\\localcache\\local-packages\\python312\\site-packages (from pandas) (2024.1)\n",
      "Requirement already satisfied: six>=1.5 in c:\\users\\hiddensardar\\appdata\\local\\packages\\pythonsoftwarefoundation.python.3.12_qbz5n2kfra8p0\\localcache\\local-packages\\python312\\site-packages (from python-dateutil>=2.8.2->pandas) (1.16.0)\n",
      "Downloading python_chess-1.999-py3-none-any.whl (1.4 kB)\n",
      "Installing collected packages: python-chess\n",
      "Successfully installed python-chess-1.999\n"
     ]
    }
   ],
   "source": [
    "!pip install python-chess pandas\n"
   ]
  },
  {
   "cell_type": "code",
   "execution_count": 2,
   "metadata": {},
   "outputs": [
    {
     "name": "stdout",
     "output_type": "stream",
     "text": [
      "                  Event            White                   Black Result  \\\n",
      "0  January 2 Early 2024  Carlsen, Magnus  Santos Flores, Alberto    1-0   \n",
      "1  January 2 Early 2024  Carlsen, Magnus     Duda, Jan-Krzysztof    1-0   \n",
      "2  January 2 Early 2024  Carlsen, Magnus  Mamedyarov, Shakhriyar    1-0   \n",
      "3  January 2 Early 2024  Carlsen, Magnus        Zhigalko, Sergei    1-0   \n",
      "4  January 2 Early 2024  Carlsen, Magnus    Donchenko, Alexander    1-0   \n",
      "\n",
      "                                               Moves  \n",
      "0  [e2e4, e7e6, b2b3, d7d5, c1b2, d5e4, b1c3, g8f...  \n",
      "1  [b2b3, d7d5, g1f3, g8f6, c1b2, c8f5, f3h4, f5d...  \n",
      "2  [g1f3, d7d5, b2b3, g8f6, c1b2, g7g6, c2c4, d5c...  \n",
      "3  [h2h4, e7e5, d2d4, e5d4, d1d4, b8c6, d4a4, g8f...  \n",
      "4  [h2h3, g8f6, g2g4, e7e6, g4g5, f6d5, e2e4, d5b...  \n"
     ]
    }
   ],
   "source": [
    "import chess.pgn\n",
    "import pandas as pd\n",
    "\n",
    "# File path to the PGN dataset\n",
    "pgn_file = r\"C:\\Users\\hiddensardar\\Downloads\\master_games.pgn\"\n",
    "\n",
    "# Initialize a list to store game data\n",
    "games_data = []\n",
    "\n",
    "# Open and parse the PGN file\n",
    "with open(pgn_file) as file:\n",
    "    while True:\n",
    "        game = chess.pgn.read_game(file)\n",
    "        if game is None:\n",
    "            break\n",
    "        # Extract details for each game\n",
    "        game_info = {\n",
    "            'Event': game.headers.get('Event'),\n",
    "            'White': game.headers.get('White'),\n",
    "            'Black': game.headers.get('Black'),\n",
    "            'Result': game.headers.get('Result'),\n",
    "            'Moves': [move.uci() for move in game.mainline_moves()]\n",
    "        }\n",
    "        games_data.append(game_info)\n",
    "\n",
    "# Convert the list to a DataFrame for easier analysis\n",
    "df_games = pd.DataFrame(games_data)\n",
    "\n",
    "# Display the first few rows of the dataframe\n",
    "print(df_games.head())\n"
   ]
  },
  {
   "cell_type": "code",
   "execution_count": 4,
   "metadata": {},
   "outputs": [
    {
     "data": {
      "text/html": [
       "<div>\n",
       "<style scoped>\n",
       "    .dataframe tbody tr th:only-of-type {\n",
       "        vertical-align: middle;\n",
       "    }\n",
       "\n",
       "    .dataframe tbody tr th {\n",
       "        vertical-align: top;\n",
       "    }\n",
       "\n",
       "    .dataframe thead th {\n",
       "        text-align: right;\n",
       "    }\n",
       "</style>\n",
       "<table border=\"1\" class=\"dataframe\">\n",
       "  <thead>\n",
       "    <tr style=\"text-align: right;\">\n",
       "      <th></th>\n",
       "      <th>Event</th>\n",
       "      <th>White</th>\n",
       "      <th>Black</th>\n",
       "      <th>Result</th>\n",
       "      <th>Moves</th>\n",
       "    </tr>\n",
       "  </thead>\n",
       "  <tbody>\n",
       "    <tr>\n",
       "      <th>0</th>\n",
       "      <td>January 2 Early 2024</td>\n",
       "      <td>Carlsen, Magnus</td>\n",
       "      <td>Santos Flores, Alberto</td>\n",
       "      <td>1-0</td>\n",
       "      <td>[e2e4, e7e6, b2b3, d7d5, c1b2, d5e4, b1c3, g8f...</td>\n",
       "    </tr>\n",
       "    <tr>\n",
       "      <th>1</th>\n",
       "      <td>January 2 Early 2024</td>\n",
       "      <td>Carlsen, Magnus</td>\n",
       "      <td>Duda, Jan-Krzysztof</td>\n",
       "      <td>1-0</td>\n",
       "      <td>[b2b3, d7d5, g1f3, g8f6, c1b2, c8f5, f3h4, f5d...</td>\n",
       "    </tr>\n",
       "    <tr>\n",
       "      <th>2</th>\n",
       "      <td>January 2 Early 2024</td>\n",
       "      <td>Carlsen, Magnus</td>\n",
       "      <td>Mamedyarov, Shakhriyar</td>\n",
       "      <td>1-0</td>\n",
       "      <td>[g1f3, d7d5, b2b3, g8f6, c1b2, g7g6, c2c4, d5c...</td>\n",
       "    </tr>\n",
       "    <tr>\n",
       "      <th>3</th>\n",
       "      <td>January 2 Early 2024</td>\n",
       "      <td>Carlsen, Magnus</td>\n",
       "      <td>Zhigalko, Sergei</td>\n",
       "      <td>1-0</td>\n",
       "      <td>[h2h4, e7e5, d2d4, e5d4, d1d4, b8c6, d4a4, g8f...</td>\n",
       "    </tr>\n",
       "    <tr>\n",
       "      <th>4</th>\n",
       "      <td>January 2 Early 2024</td>\n",
       "      <td>Carlsen, Magnus</td>\n",
       "      <td>Donchenko, Alexander</td>\n",
       "      <td>1-0</td>\n",
       "      <td>[h2h3, g8f6, g2g4, e7e6, g4g5, f6d5, e2e4, d5b...</td>\n",
       "    </tr>\n",
       "  </tbody>\n",
       "</table>\n",
       "</div>"
      ],
      "text/plain": [
       "                  Event            White                   Black Result  \\\n",
       "0  January 2 Early 2024  Carlsen, Magnus  Santos Flores, Alberto    1-0   \n",
       "1  January 2 Early 2024  Carlsen, Magnus     Duda, Jan-Krzysztof    1-0   \n",
       "2  January 2 Early 2024  Carlsen, Magnus  Mamedyarov, Shakhriyar    1-0   \n",
       "3  January 2 Early 2024  Carlsen, Magnus        Zhigalko, Sergei    1-0   \n",
       "4  January 2 Early 2024  Carlsen, Magnus    Donchenko, Alexander    1-0   \n",
       "\n",
       "                                               Moves  \n",
       "0  [e2e4, e7e6, b2b3, d7d5, c1b2, d5e4, b1c3, g8f...  \n",
       "1  [b2b3, d7d5, g1f3, g8f6, c1b2, c8f5, f3h4, f5d...  \n",
       "2  [g1f3, d7d5, b2b3, g8f6, c1b2, g7g6, c2c4, d5c...  \n",
       "3  [h2h4, e7e5, d2d4, e5d4, d1d4, b8c6, d4a4, g8f...  \n",
       "4  [h2h3, g8f6, g2g4, e7e6, g4g5, f6d5, e2e4, d5b...  "
      ]
     },
     "execution_count": 4,
     "metadata": {},
     "output_type": "execute_result"
    }
   ],
   "source": [
    "df_games.head()"
   ]
  },
  {
   "cell_type": "code",
   "execution_count": 5,
   "metadata": {},
   "outputs": [
    {
     "name": "stdout",
     "output_type": "stream",
     "text": [
      "Total number of games: 25\n",
      "\n",
      "Result distribution:\n",
      "Result\n",
      "1-0    25\n",
      "Name: count, dtype: int64\n",
      "\n",
      "First few opening moves from the games:\n",
      "             White                   Black                   Opening_Moves\n",
      "0  Carlsen, Magnus  Santos Flores, Alberto  [e2e4, e7e6, b2b3, d7d5, c1b2]\n",
      "1  Carlsen, Magnus     Duda, Jan-Krzysztof  [b2b3, d7d5, g1f3, g8f6, c1b2]\n",
      "2  Carlsen, Magnus  Mamedyarov, Shakhriyar  [g1f3, d7d5, b2b3, g8f6, c1b2]\n",
      "3  Carlsen, Magnus        Zhigalko, Sergei  [h2h4, e7e5, d2d4, e5d4, d1d4]\n",
      "4  Carlsen, Magnus    Donchenko, Alexander  [h2h3, g8f6, g2g4, e7e6, g4g5]\n"
     ]
    }
   ],
   "source": [
    "# Display the total number of games\n",
    "total_games = len(df_games)\n",
    "print(f\"Total number of games: {total_games}\")\n",
    "\n",
    "# Count the distribution of results\n",
    "result_distribution = df_games['Result'].value_counts()\n",
    "print(\"\\nResult distribution:\")\n",
    "print(result_distribution)\n",
    "\n",
    "# Display the first few games to inspect opening moves\n",
    "opening_moves = df_games['Moves'].apply(lambda moves: moves[:5])  # First 5 moves\n",
    "df_games['Opening_Moves'] = opening_moves\n",
    "print(\"\\nFirst few opening moves from the games:\")\n",
    "print(df_games[['White', 'Black', 'Opening_Moves']].head())\n"
   ]
  },
  {
   "cell_type": "code",
   "execution_count": null,
   "metadata": {},
   "outputs": [],
   "source": [
    "\"C:\\Users\\hiddensardar\\Downloads\\stockfish-windows-x86-64-avx2\\stockfish\\stockfish-windows-x86-64-avx2.exe\""
   ]
  },
  {
   "cell_type": "code",
   "execution_count": 7,
   "metadata": {},
   "outputs": [
    {
     "name": "stdout",
     "output_type": "stream",
     "text": [
      "\n",
      "Top moves with their scores:\n",
      "Move: a3d6, Score: None\n",
      "Move: a3b2, Score: None\n",
      "Move: d7e8, Score: None\n",
      "Move: c6c5, Score: None\n",
      "Move: h6h5, Score: None\n",
      "Move: b7b6, Score: None\n",
      "Move: f7f6, Score: None\n",
      "Move: f7f5, Score: None\n",
      "Move: c6b5, Score: None\n",
      "Move: a3c1, Score: None\n"
     ]
    }
   ],
   "source": [
    "import chess.engine\n",
    "\n",
    "# Path to your Stockfish executable\n",
    "stockfish_path = r\"C:\\Users\\hiddensardar\\Downloads\\stockfish-windows-x86-64-avx2\\stockfish\\stockfish-windows-x86-64-avx2.exe\"\n",
    "\n",
    "def get_top_moves(moves, stockfish_path, num_moves=10):\n",
    "    # Create a new chess board\n",
    "    board = chess.Board()\n",
    "    \n",
    "    # Execute moves from the game\n",
    "    for move in moves:\n",
    "        board.push(chess.Move.from_uci(move))\n",
    "    \n",
    "    # Initialize the Stockfish engine\n",
    "    with chess.engine.SimpleEngine.popen_uci(stockfish_path) as engine:\n",
    "        # Get the top moves\n",
    "        top_moves = engine.play(board, chess.engine.Limit(time=2.0), options={\"UCI_LimitStrength\": \"true\"})\n",
    "        best_move = top_moves.move\n",
    "        \n",
    "        # Analyze to get multiple best moves\n",
    "        info = engine.analyse(board, chess.engine.Limit(time=2.0), multipv=num_moves)\n",
    "        \n",
    "    # Return the top moves\n",
    "    return [(info[i][\"pv\"][0], info[i][\"score\"].relative.score()) for i in range(num_moves)]\n",
    "\n",
    "# Example usage with the first game in the DataFrame\n",
    "first_game_moves = df_games['Moves'].iloc[0]\n",
    "top_moves = get_top_moves(first_game_moves, stockfish_path)\n",
    "\n",
    "print(\"\\nTop moves with their scores:\")\n",
    "for move, score in top_moves:\n",
    "    print(f\"Move: {move}, Score: {score}\")\n"
   ]
  },
  {
   "cell_type": "code",
   "execution_count": 8,
   "metadata": {},
   "outputs": [
    {
     "name": "stdout",
     "output_type": "stream",
     "text": [
      "\n",
      "Top moves with their scores:\n",
      "Move: a3d6, Score: M-4\n",
      "Move: a3b2, Score: M-4\n",
      "Move: d7e8, Score: M-2\n",
      "Move: a3c5, Score: M-1\n",
      "Move: a3f8, Score: M-1\n",
      "Move: a3e7, Score: M-1\n",
      "Move: c6b5, Score: M-1\n",
      "Move: a3c1, Score: M-1\n",
      "Move: f7f6, Score: M-1\n",
      "Move: f7f5, Score: M-1\n"
     ]
    }
   ],
   "source": [
    "import chess.engine\n",
    "stockfish_path = r\"C:\\Users\\hiddensardar\\Downloads\\stockfish-windows-x86-64-avx2\\stockfish\\stockfish-windows-x86-64-avx2.exe\"\n",
    "\n",
    "def get_top_moves(moves, stockfish_path, num_moves=10):\n",
    "    # Create a new chess board\n",
    "    board = chess.Board()\n",
    "    \n",
    "    # Execute moves from the game\n",
    "    for move in moves:\n",
    "        board.push(chess.Move.from_uci(move))\n",
    "    \n",
    "    # Initialize the Stockfish engine\n",
    "    with chess.engine.SimpleEngine.popen_uci(stockfish_path) as engine:\n",
    "        # Analyze to get multiple best moves\n",
    "        info = engine.analyse(board, chess.engine.Limit(time=2.0), multipv=num_moves)\n",
    "        \n",
    "        # Extract the top moves and their evaluation scores\n",
    "        top_moves = []\n",
    "        for i in range(num_moves):\n",
    "            move_info = info[i]\n",
    "            move = move_info['pv'][0]  # Principal variation (top move)\n",
    "            score = move_info['score'].relative  # Score relative to the current position\n",
    "            if score.is_mate():\n",
    "                score_value = f\"M{score.mate()}\"  # Mate in X moves\n",
    "            else:\n",
    "                score_value = score.score()  # Standard evaluation score\n",
    "            top_moves.append((move, score_value))\n",
    "    \n",
    "    # Return the top moves with their scores\n",
    "    return top_moves\n",
    "\n",
    "# Example usage with the first game in the DataFrame\n",
    "first_game_moves = df_games['Moves'].iloc[0]\n",
    "top_moves = get_top_moves(first_game_moves, stockfish_path)\n",
    "\n",
    "print(\"\\nTop moves with their scores:\")\n",
    "for move, score in top_moves:\n",
    "    print(f\"Move: {move}, Score: {score}\")\n"
   ]
  },
  {
   "cell_type": "code",
   "execution_count": 9,
   "metadata": {},
   "outputs": [
    {
     "ename": "ValueError",
     "evalue": "could not convert string to float: 'c1c6'",
     "output_type": "error",
     "traceback": [
      "\u001b[1;31m---------------------------------------------------------------------------\u001b[0m",
      "\u001b[1;31mValueError\u001b[0m                                Traceback (most recent call last)",
      "Cell \u001b[1;32mIn[9], line 29\u001b[0m\n\u001b[0;32m     27\u001b[0m \u001b[38;5;66;03m# Train a Random Forest Classifier\u001b[39;00m\n\u001b[0;32m     28\u001b[0m rf_piece_model \u001b[38;5;241m=\u001b[39m RandomForestClassifier(n_estimators\u001b[38;5;241m=\u001b[39m\u001b[38;5;241m100\u001b[39m, random_state\u001b[38;5;241m=\u001b[39m\u001b[38;5;241m42\u001b[39m)\n\u001b[1;32m---> 29\u001b[0m \u001b[43mrf_piece_model\u001b[49m\u001b[38;5;241;43m.\u001b[39;49m\u001b[43mfit\u001b[49m\u001b[43m(\u001b[49m\u001b[43mX_train\u001b[49m\u001b[43m,\u001b[49m\u001b[43m \u001b[49m\u001b[43my_train\u001b[49m\u001b[43m)\u001b[49m\n\u001b[0;32m     31\u001b[0m \u001b[38;5;66;03m# Evaluate the model\u001b[39;00m\n\u001b[0;32m     32\u001b[0m accuracy \u001b[38;5;241m=\u001b[39m rf_piece_model\u001b[38;5;241m.\u001b[39mscore(X_test, y_test)\n",
      "File \u001b[1;32m~\\AppData\\Local\\Packages\\PythonSoftwareFoundation.Python.3.12_qbz5n2kfra8p0\\LocalCache\\local-packages\\Python312\\site-packages\\sklearn\\base.py:1473\u001b[0m, in \u001b[0;36m_fit_context.<locals>.decorator.<locals>.wrapper\u001b[1;34m(estimator, *args, **kwargs)\u001b[0m\n\u001b[0;32m   1466\u001b[0m     estimator\u001b[38;5;241m.\u001b[39m_validate_params()\n\u001b[0;32m   1468\u001b[0m \u001b[38;5;28;01mwith\u001b[39;00m config_context(\n\u001b[0;32m   1469\u001b[0m     skip_parameter_validation\u001b[38;5;241m=\u001b[39m(\n\u001b[0;32m   1470\u001b[0m         prefer_skip_nested_validation \u001b[38;5;129;01mor\u001b[39;00m global_skip_validation\n\u001b[0;32m   1471\u001b[0m     )\n\u001b[0;32m   1472\u001b[0m ):\n\u001b[1;32m-> 1473\u001b[0m     \u001b[38;5;28;01mreturn\u001b[39;00m \u001b[43mfit_method\u001b[49m\u001b[43m(\u001b[49m\u001b[43mestimator\u001b[49m\u001b[43m,\u001b[49m\u001b[43m \u001b[49m\u001b[38;5;241;43m*\u001b[39;49m\u001b[43margs\u001b[49m\u001b[43m,\u001b[49m\u001b[43m \u001b[49m\u001b[38;5;241;43m*\u001b[39;49m\u001b[38;5;241;43m*\u001b[39;49m\u001b[43mkwargs\u001b[49m\u001b[43m)\u001b[49m\n",
      "File \u001b[1;32m~\\AppData\\Local\\Packages\\PythonSoftwareFoundation.Python.3.12_qbz5n2kfra8p0\\LocalCache\\local-packages\\Python312\\site-packages\\sklearn\\ensemble\\_forest.py:363\u001b[0m, in \u001b[0;36mBaseForest.fit\u001b[1;34m(self, X, y, sample_weight)\u001b[0m\n\u001b[0;32m    360\u001b[0m \u001b[38;5;28;01mif\u001b[39;00m issparse(y):\n\u001b[0;32m    361\u001b[0m     \u001b[38;5;28;01mraise\u001b[39;00m \u001b[38;5;167;01mValueError\u001b[39;00m(\u001b[38;5;124m\"\u001b[39m\u001b[38;5;124msparse multilabel-indicator for y is not supported.\u001b[39m\u001b[38;5;124m\"\u001b[39m)\n\u001b[1;32m--> 363\u001b[0m X, y \u001b[38;5;241m=\u001b[39m \u001b[38;5;28;43mself\u001b[39;49m\u001b[38;5;241;43m.\u001b[39;49m\u001b[43m_validate_data\u001b[49m\u001b[43m(\u001b[49m\n\u001b[0;32m    364\u001b[0m \u001b[43m    \u001b[49m\u001b[43mX\u001b[49m\u001b[43m,\u001b[49m\n\u001b[0;32m    365\u001b[0m \u001b[43m    \u001b[49m\u001b[43my\u001b[49m\u001b[43m,\u001b[49m\n\u001b[0;32m    366\u001b[0m \u001b[43m    \u001b[49m\u001b[43mmulti_output\u001b[49m\u001b[38;5;241;43m=\u001b[39;49m\u001b[38;5;28;43;01mTrue\u001b[39;49;00m\u001b[43m,\u001b[49m\n\u001b[0;32m    367\u001b[0m \u001b[43m    \u001b[49m\u001b[43maccept_sparse\u001b[49m\u001b[38;5;241;43m=\u001b[39;49m\u001b[38;5;124;43m\"\u001b[39;49m\u001b[38;5;124;43mcsc\u001b[39;49m\u001b[38;5;124;43m\"\u001b[39;49m\u001b[43m,\u001b[49m\n\u001b[0;32m    368\u001b[0m \u001b[43m    \u001b[49m\u001b[43mdtype\u001b[49m\u001b[38;5;241;43m=\u001b[39;49m\u001b[43mDTYPE\u001b[49m\u001b[43m,\u001b[49m\n\u001b[0;32m    369\u001b[0m \u001b[43m    \u001b[49m\u001b[43mforce_all_finite\u001b[49m\u001b[38;5;241;43m=\u001b[39;49m\u001b[38;5;28;43;01mFalse\u001b[39;49;00m\u001b[43m,\u001b[49m\n\u001b[0;32m    370\u001b[0m \u001b[43m\u001b[49m\u001b[43m)\u001b[49m\n\u001b[0;32m    371\u001b[0m \u001b[38;5;66;03m# _compute_missing_values_in_feature_mask checks if X has missing values and\u001b[39;00m\n\u001b[0;32m    372\u001b[0m \u001b[38;5;66;03m# will raise an error if the underlying tree base estimator can't handle missing\u001b[39;00m\n\u001b[0;32m    373\u001b[0m \u001b[38;5;66;03m# values. Only the criterion is required to determine if the tree supports\u001b[39;00m\n\u001b[0;32m    374\u001b[0m \u001b[38;5;66;03m# missing values.\u001b[39;00m\n\u001b[0;32m    375\u001b[0m estimator \u001b[38;5;241m=\u001b[39m \u001b[38;5;28mtype\u001b[39m(\u001b[38;5;28mself\u001b[39m\u001b[38;5;241m.\u001b[39mestimator)(criterion\u001b[38;5;241m=\u001b[39m\u001b[38;5;28mself\u001b[39m\u001b[38;5;241m.\u001b[39mcriterion)\n",
      "File \u001b[1;32m~\\AppData\\Local\\Packages\\PythonSoftwareFoundation.Python.3.12_qbz5n2kfra8p0\\LocalCache\\local-packages\\Python312\\site-packages\\sklearn\\base.py:650\u001b[0m, in \u001b[0;36mBaseEstimator._validate_data\u001b[1;34m(self, X, y, reset, validate_separately, cast_to_ndarray, **check_params)\u001b[0m\n\u001b[0;32m    648\u001b[0m         y \u001b[38;5;241m=\u001b[39m check_array(y, input_name\u001b[38;5;241m=\u001b[39m\u001b[38;5;124m\"\u001b[39m\u001b[38;5;124my\u001b[39m\u001b[38;5;124m\"\u001b[39m, \u001b[38;5;241m*\u001b[39m\u001b[38;5;241m*\u001b[39mcheck_y_params)\n\u001b[0;32m    649\u001b[0m     \u001b[38;5;28;01melse\u001b[39;00m:\n\u001b[1;32m--> 650\u001b[0m         X, y \u001b[38;5;241m=\u001b[39m \u001b[43mcheck_X_y\u001b[49m\u001b[43m(\u001b[49m\u001b[43mX\u001b[49m\u001b[43m,\u001b[49m\u001b[43m \u001b[49m\u001b[43my\u001b[49m\u001b[43m,\u001b[49m\u001b[43m \u001b[49m\u001b[38;5;241;43m*\u001b[39;49m\u001b[38;5;241;43m*\u001b[39;49m\u001b[43mcheck_params\u001b[49m\u001b[43m)\u001b[49m\n\u001b[0;32m    651\u001b[0m     out \u001b[38;5;241m=\u001b[39m X, y\n\u001b[0;32m    653\u001b[0m \u001b[38;5;28;01mif\u001b[39;00m \u001b[38;5;129;01mnot\u001b[39;00m no_val_X \u001b[38;5;129;01mand\u001b[39;00m check_params\u001b[38;5;241m.\u001b[39mget(\u001b[38;5;124m\"\u001b[39m\u001b[38;5;124mensure_2d\u001b[39m\u001b[38;5;124m\"\u001b[39m, \u001b[38;5;28;01mTrue\u001b[39;00m):\n",
      "File \u001b[1;32m~\\AppData\\Local\\Packages\\PythonSoftwareFoundation.Python.3.12_qbz5n2kfra8p0\\LocalCache\\local-packages\\Python312\\site-packages\\sklearn\\utils\\validation.py:1301\u001b[0m, in \u001b[0;36mcheck_X_y\u001b[1;34m(X, y, accept_sparse, accept_large_sparse, dtype, order, copy, force_writeable, force_all_finite, ensure_2d, allow_nd, multi_output, ensure_min_samples, ensure_min_features, y_numeric, estimator)\u001b[0m\n\u001b[0;32m   1296\u001b[0m         estimator_name \u001b[38;5;241m=\u001b[39m _check_estimator_name(estimator)\n\u001b[0;32m   1297\u001b[0m     \u001b[38;5;28;01mraise\u001b[39;00m \u001b[38;5;167;01mValueError\u001b[39;00m(\n\u001b[0;32m   1298\u001b[0m         \u001b[38;5;124mf\u001b[39m\u001b[38;5;124m\"\u001b[39m\u001b[38;5;132;01m{\u001b[39;00mestimator_name\u001b[38;5;132;01m}\u001b[39;00m\u001b[38;5;124m requires y to be passed, but the target y is None\u001b[39m\u001b[38;5;124m\"\u001b[39m\n\u001b[0;32m   1299\u001b[0m     )\n\u001b[1;32m-> 1301\u001b[0m X \u001b[38;5;241m=\u001b[39m \u001b[43mcheck_array\u001b[49m\u001b[43m(\u001b[49m\n\u001b[0;32m   1302\u001b[0m \u001b[43m    \u001b[49m\u001b[43mX\u001b[49m\u001b[43m,\u001b[49m\n\u001b[0;32m   1303\u001b[0m \u001b[43m    \u001b[49m\u001b[43maccept_sparse\u001b[49m\u001b[38;5;241;43m=\u001b[39;49m\u001b[43maccept_sparse\u001b[49m\u001b[43m,\u001b[49m\n\u001b[0;32m   1304\u001b[0m \u001b[43m    \u001b[49m\u001b[43maccept_large_sparse\u001b[49m\u001b[38;5;241;43m=\u001b[39;49m\u001b[43maccept_large_sparse\u001b[49m\u001b[43m,\u001b[49m\n\u001b[0;32m   1305\u001b[0m \u001b[43m    \u001b[49m\u001b[43mdtype\u001b[49m\u001b[38;5;241;43m=\u001b[39;49m\u001b[43mdtype\u001b[49m\u001b[43m,\u001b[49m\n\u001b[0;32m   1306\u001b[0m \u001b[43m    \u001b[49m\u001b[43morder\u001b[49m\u001b[38;5;241;43m=\u001b[39;49m\u001b[43morder\u001b[49m\u001b[43m,\u001b[49m\n\u001b[0;32m   1307\u001b[0m \u001b[43m    \u001b[49m\u001b[43mcopy\u001b[49m\u001b[38;5;241;43m=\u001b[39;49m\u001b[43mcopy\u001b[49m\u001b[43m,\u001b[49m\n\u001b[0;32m   1308\u001b[0m \u001b[43m    \u001b[49m\u001b[43mforce_writeable\u001b[49m\u001b[38;5;241;43m=\u001b[39;49m\u001b[43mforce_writeable\u001b[49m\u001b[43m,\u001b[49m\n\u001b[0;32m   1309\u001b[0m \u001b[43m    \u001b[49m\u001b[43mforce_all_finite\u001b[49m\u001b[38;5;241;43m=\u001b[39;49m\u001b[43mforce_all_finite\u001b[49m\u001b[43m,\u001b[49m\n\u001b[0;32m   1310\u001b[0m \u001b[43m    \u001b[49m\u001b[43mensure_2d\u001b[49m\u001b[38;5;241;43m=\u001b[39;49m\u001b[43mensure_2d\u001b[49m\u001b[43m,\u001b[49m\n\u001b[0;32m   1311\u001b[0m \u001b[43m    \u001b[49m\u001b[43mallow_nd\u001b[49m\u001b[38;5;241;43m=\u001b[39;49m\u001b[43mallow_nd\u001b[49m\u001b[43m,\u001b[49m\n\u001b[0;32m   1312\u001b[0m \u001b[43m    \u001b[49m\u001b[43mensure_min_samples\u001b[49m\u001b[38;5;241;43m=\u001b[39;49m\u001b[43mensure_min_samples\u001b[49m\u001b[43m,\u001b[49m\n\u001b[0;32m   1313\u001b[0m \u001b[43m    \u001b[49m\u001b[43mensure_min_features\u001b[49m\u001b[38;5;241;43m=\u001b[39;49m\u001b[43mensure_min_features\u001b[49m\u001b[43m,\u001b[49m\n\u001b[0;32m   1314\u001b[0m \u001b[43m    \u001b[49m\u001b[43mestimator\u001b[49m\u001b[38;5;241;43m=\u001b[39;49m\u001b[43mestimator\u001b[49m\u001b[43m,\u001b[49m\n\u001b[0;32m   1315\u001b[0m \u001b[43m    \u001b[49m\u001b[43minput_name\u001b[49m\u001b[38;5;241;43m=\u001b[39;49m\u001b[38;5;124;43m\"\u001b[39;49m\u001b[38;5;124;43mX\u001b[39;49m\u001b[38;5;124;43m\"\u001b[39;49m\u001b[43m,\u001b[49m\n\u001b[0;32m   1316\u001b[0m \u001b[43m\u001b[49m\u001b[43m)\u001b[49m\n\u001b[0;32m   1318\u001b[0m y \u001b[38;5;241m=\u001b[39m _check_y(y, multi_output\u001b[38;5;241m=\u001b[39mmulti_output, y_numeric\u001b[38;5;241m=\u001b[39my_numeric, estimator\u001b[38;5;241m=\u001b[39mestimator)\n\u001b[0;32m   1320\u001b[0m check_consistent_length(X, y)\n",
      "File \u001b[1;32m~\\AppData\\Local\\Packages\\PythonSoftwareFoundation.Python.3.12_qbz5n2kfra8p0\\LocalCache\\local-packages\\Python312\\site-packages\\sklearn\\utils\\validation.py:1012\u001b[0m, in \u001b[0;36mcheck_array\u001b[1;34m(array, accept_sparse, accept_large_sparse, dtype, order, copy, force_writeable, force_all_finite, ensure_2d, allow_nd, ensure_min_samples, ensure_min_features, estimator, input_name)\u001b[0m\n\u001b[0;32m   1010\u001b[0m         array \u001b[38;5;241m=\u001b[39m xp\u001b[38;5;241m.\u001b[39mastype(array, dtype, copy\u001b[38;5;241m=\u001b[39m\u001b[38;5;28;01mFalse\u001b[39;00m)\n\u001b[0;32m   1011\u001b[0m     \u001b[38;5;28;01melse\u001b[39;00m:\n\u001b[1;32m-> 1012\u001b[0m         array \u001b[38;5;241m=\u001b[39m \u001b[43m_asarray_with_order\u001b[49m\u001b[43m(\u001b[49m\u001b[43marray\u001b[49m\u001b[43m,\u001b[49m\u001b[43m \u001b[49m\u001b[43morder\u001b[49m\u001b[38;5;241;43m=\u001b[39;49m\u001b[43morder\u001b[49m\u001b[43m,\u001b[49m\u001b[43m \u001b[49m\u001b[43mdtype\u001b[49m\u001b[38;5;241;43m=\u001b[39;49m\u001b[43mdtype\u001b[49m\u001b[43m,\u001b[49m\u001b[43m \u001b[49m\u001b[43mxp\u001b[49m\u001b[38;5;241;43m=\u001b[39;49m\u001b[43mxp\u001b[49m\u001b[43m)\u001b[49m\n\u001b[0;32m   1013\u001b[0m \u001b[38;5;28;01mexcept\u001b[39;00m ComplexWarning \u001b[38;5;28;01mas\u001b[39;00m complex_warning:\n\u001b[0;32m   1014\u001b[0m     \u001b[38;5;28;01mraise\u001b[39;00m \u001b[38;5;167;01mValueError\u001b[39;00m(\n\u001b[0;32m   1015\u001b[0m         \u001b[38;5;124m\"\u001b[39m\u001b[38;5;124mComplex data not supported\u001b[39m\u001b[38;5;130;01m\\n\u001b[39;00m\u001b[38;5;132;01m{}\u001b[39;00m\u001b[38;5;130;01m\\n\u001b[39;00m\u001b[38;5;124m\"\u001b[39m\u001b[38;5;241m.\u001b[39mformat(array)\n\u001b[0;32m   1016\u001b[0m     ) \u001b[38;5;28;01mfrom\u001b[39;00m \u001b[38;5;21;01mcomplex_warning\u001b[39;00m\n",
      "File \u001b[1;32m~\\AppData\\Local\\Packages\\PythonSoftwareFoundation.Python.3.12_qbz5n2kfra8p0\\LocalCache\\local-packages\\Python312\\site-packages\\sklearn\\utils\\_array_api.py:745\u001b[0m, in \u001b[0;36m_asarray_with_order\u001b[1;34m(array, dtype, order, copy, xp, device)\u001b[0m\n\u001b[0;32m    743\u001b[0m     array \u001b[38;5;241m=\u001b[39m numpy\u001b[38;5;241m.\u001b[39marray(array, order\u001b[38;5;241m=\u001b[39morder, dtype\u001b[38;5;241m=\u001b[39mdtype)\n\u001b[0;32m    744\u001b[0m \u001b[38;5;28;01melse\u001b[39;00m:\n\u001b[1;32m--> 745\u001b[0m     array \u001b[38;5;241m=\u001b[39m \u001b[43mnumpy\u001b[49m\u001b[38;5;241;43m.\u001b[39;49m\u001b[43masarray\u001b[49m\u001b[43m(\u001b[49m\u001b[43marray\u001b[49m\u001b[43m,\u001b[49m\u001b[43m \u001b[49m\u001b[43morder\u001b[49m\u001b[38;5;241;43m=\u001b[39;49m\u001b[43morder\u001b[49m\u001b[43m,\u001b[49m\u001b[43m \u001b[49m\u001b[43mdtype\u001b[49m\u001b[38;5;241;43m=\u001b[39;49m\u001b[43mdtype\u001b[49m\u001b[43m)\u001b[49m\n\u001b[0;32m    747\u001b[0m \u001b[38;5;66;03m# At this point array is a NumPy ndarray. We convert it to an array\u001b[39;00m\n\u001b[0;32m    748\u001b[0m \u001b[38;5;66;03m# container that is consistent with the input's namespace.\u001b[39;00m\n\u001b[0;32m    749\u001b[0m \u001b[38;5;28;01mreturn\u001b[39;00m xp\u001b[38;5;241m.\u001b[39masarray(array)\n",
      "\u001b[1;31mValueError\u001b[0m: could not convert string to float: 'c1c6'"
     ]
    }
   ],
   "source": [
    "from sklearn.ensemble import RandomForestClassifier\n",
    "from sklearn.model_selection import train_test_split\n",
    "from sklearn.preprocessing import LabelEncoder\n",
    "import numpy as np\n",
    "\n",
    "# Extracting the pieces moved from the moves list\n",
    "def extract_piece_from_move(move):\n",
    "    return move[0]  # The first character represents the piece in UCI format (e.g., 'e2e4' -> 'e')\n",
    "\n",
    "# Prepare the dataset\n",
    "df_games['Piece_Moved'] = df_games['Moves'].apply(lambda moves: [extract_piece_from_move(move) for move in moves])\n",
    "\n",
    "# Flatten the data for training\n",
    "all_moves = []\n",
    "all_pieces = []\n",
    "for i in range(len(df_games)):\n",
    "    all_moves.extend(df_games['Moves'].iloc[i])\n",
    "    all_pieces.extend(df_games['Piece_Moved'].iloc[i])\n",
    "\n",
    "# Encode the pieces for model training\n",
    "le = LabelEncoder()\n",
    "encoded_pieces = le.fit_transform(all_pieces)\n",
    "\n",
    "# Split the data into train and test sets\n",
    "X_train, X_test, y_train, y_test = train_test_split(np.array(all_moves).reshape(-1, 1), encoded_pieces, test_size=0.2, random_state=42)\n",
    "\n",
    "# Train a Random Forest Classifier\n",
    "rf_piece_model = RandomForestClassifier(n_estimators=100, random_state=42)\n",
    "rf_piece_model.fit(X_train, y_train)\n",
    "\n",
    "# Evaluate the model\n",
    "accuracy = rf_piece_model.score(X_test, y_test)\n",
    "print(f\"Piece Model Accuracy: {accuracy:.2f}\")\n"
   ]
  },
  {
   "cell_type": "code",
   "execution_count": 10,
   "metadata": {},
   "outputs": [
    {
     "name": "stdout",
     "output_type": "stream",
     "text": [
      "Piece Model Accuracy: 0.81\n"
     ]
    }
   ],
   "source": [
    "from sklearn.preprocessing import LabelEncoder\n",
    "import numpy as np\n",
    "\n",
    "# Convert chess board squares to numerical values\n",
    "def square_to_index(square):\n",
    "    file = ord(square[0]) - ord('a')  # 'a' to 'h' -> 0 to 7\n",
    "    rank = int(square[1]) - 1  # '1' to '8' -> 0 to 7\n",
    "    return file + rank * 8  # Unique index from 0 to 63\n",
    "\n",
    "# Convert UCI move (e.g., 'c1c6') to numerical features\n",
    "def move_to_features(move):\n",
    "    start_square = move[:2]\n",
    "    end_square = move[2:4]\n",
    "    return [square_to_index(start_square), square_to_index(end_square)]\n",
    "\n",
    "# Prepare the dataset by encoding moves\n",
    "all_moves = []\n",
    "all_pieces = []\n",
    "for i in range(len(df_games)):\n",
    "    for move, piece in zip(df_games['Moves'].iloc[i], df_games['Piece_Moved'].iloc[i]):\n",
    "        move_features = move_to_features(move)\n",
    "        all_moves.append(move_features)\n",
    "        all_pieces.append(piece)\n",
    "\n",
    "# Convert lists to NumPy arrays\n",
    "X = np.array(all_moves)  # The features are the move (start, end squares)\n",
    "y = LabelEncoder().fit_transform(all_pieces)  # Encode the pieces\n",
    "\n",
    "# Split the data into train and test sets\n",
    "X_train, X_test, y_train, y_test = train_test_split(X, y, test_size=0.2, random_state=42)\n",
    "\n",
    "# Train a Random Forest Classifier\n",
    "rf_piece_model = RandomForestClassifier(n_estimators=100, random_state=42)\n",
    "rf_piece_model.fit(X_train, y_train)\n",
    "\n",
    "# Evaluate the model\n",
    "accuracy = rf_piece_model.score(X_test, y_test)\n",
    "print(f\"Piece Model Accuracy: {accuracy:.2f}\")\n"
   ]
  },
  {
   "cell_type": "code",
   "execution_count": 11,
   "metadata": {},
   "outputs": [
    {
     "name": "stdout",
     "output_type": "stream",
     "text": [
      "Position Model Accuracy: 0.90\n"
     ]
    }
   ],
   "source": [
    "# Extract end squares from moves (e.g., 'c1c6' -> 'c6')\n",
    "def extract_end_square_from_move(move):\n",
    "    return move[2:4]\n",
    "\n",
    "# Prepare the dataset for the Position Model\n",
    "df_games['End_Square'] = df_games['Moves'].apply(lambda moves: [extract_end_square_from_move(move) for move in moves])\n",
    "\n",
    "# Flatten the data for training\n",
    "all_end_squares = []\n",
    "for i in range(len(df_games)):\n",
    "    all_end_squares.extend(df_games['End_Square'].iloc[i])\n",
    "\n",
    "# Encode the end squares\n",
    "encoded_end_squares = [square_to_index(square) for square in all_end_squares]  # Convert square to numeric index\n",
    "\n",
    "# Split the data into train and test sets\n",
    "X_train, X_test, y_train, y_test = train_test_split(np.array(all_moves), encoded_end_squares, test_size=0.2, random_state=42)\n",
    "\n",
    "# Train a Random Forest Classifier for the Position Model\n",
    "rf_position_model = RandomForestClassifier(n_estimators=100, random_state=42)\n",
    "rf_position_model.fit(X_train, y_train)\n",
    "\n",
    "# Evaluate the model\n",
    "position_accuracy = rf_position_model.score(X_test, y_test)\n",
    "print(f\"Position Model Accuracy: {position_accuracy:.2f}\")\n"
   ]
  },
  {
   "cell_type": "code",
   "execution_count": 12,
   "metadata": {},
   "outputs": [
    {
     "name": "stdout",
     "output_type": "stream",
     "text": [
      "Time Model R² Score: -0.28\n"
     ]
    }
   ],
   "source": [
    "from sklearn.ensemble import RandomForestRegressor\n",
    "\n",
    "# Example: Simulate time data for each move (you can replace this with real time data)\n",
    "import random\n",
    "df_games['Move_Time'] = df_games['Moves'].apply(lambda moves: [random.uniform(0.5, 20.0) for _ in moves])\n",
    "\n",
    "# Flatten the move times\n",
    "all_move_times = []\n",
    "for i in range(len(df_games)):\n",
    "    all_move_times.extend(df_games['Move_Time'].iloc[i])\n",
    "\n",
    "# Split the data into train and test sets\n",
    "X_train, X_test, y_train, y_test = train_test_split(np.array(all_moves), all_move_times, test_size=0.2, random_state=42)\n",
    "\n",
    "# Train a Random Forest Regressor for the Time Model\n",
    "rf_time_model = RandomForestRegressor(n_estimators=100, random_state=42)\n",
    "rf_time_model.fit(X_train, y_train)\n",
    "\n",
    "# Evaluate the model\n",
    "time_model_r2 = rf_time_model.score(X_test, y_test)\n",
    "print(f\"Time Model R² Score: {time_model_r2:.2f}\")\n"
   ]
  },
  {
   "cell_type": "code",
   "execution_count": 13,
   "metadata": {},
   "outputs": [
    {
     "name": "stdout",
     "output_type": "stream",
     "text": [
      "Time Model R² Score with Move Number: -0.22\n"
     ]
    }
   ],
   "source": [
    "# Add move number as a feature\n",
    "def move_number_feature(moves):\n",
    "    return list(range(1, len(moves) + 1))\n",
    "\n",
    "df_games['Move_Number'] = df_games['Moves'].apply(move_number_feature)\n",
    "\n",
    "# Flatten the data for training\n",
    "all_move_numbers = []\n",
    "for i in range(len(df_games)):\n",
    "    all_move_numbers.extend(df_games['Move_Number'].iloc[i])\n",
    "\n",
    "# Rebuild the feature set to include move number and piece moved\n",
    "X = []\n",
    "for i in range(len(all_moves)):\n",
    "    move_features = list(all_moves[i])  # Start and end square\n",
    "    move_features.append(all_move_numbers[i])  # Add move number as a feature\n",
    "    X.append(move_features)\n",
    "\n",
    "# Convert to NumPy array\n",
    "X = np.array(X)\n",
    "\n",
    "# Train a Random Forest Regressor again with the additional feature\n",
    "X_train, X_test, y_train, y_test = train_test_split(X, all_move_times, test_size=0.2, random_state=42)\n",
    "\n",
    "rf_time_model = RandomForestRegressor(n_estimators=100, random_state=42)\n",
    "rf_time_model.fit(X_train, y_train)\n",
    "\n",
    "# Evaluate the model\n",
    "time_model_r2 = rf_time_model.score(X_test, y_test)\n",
    "print(f\"Time Model R² Score with Move Number: {time_model_r2:.2f}\")\n"
   ]
  },
  {
   "cell_type": "code",
   "execution_count": 14,
   "metadata": {},
   "outputs": [
    {
     "name": "stdout",
     "output_type": "stream",
     "text": [
      "Time Model R² Score with Piece Type and Game Phase: -0.23\n"
     ]
    }
   ],
   "source": [
    "# Define a mapping for pieces\n",
    "piece_mapping = {\n",
    "    'P': 1,  # Pawn\n",
    "    'N': 2,  # Knight\n",
    "    'B': 3,  # Bishop\n",
    "    'R': 4,  # Rook\n",
    "    'Q': 5,  # Queen\n",
    "    'K': 6   # King\n",
    "}\n",
    "\n",
    "# Extract piece types from moves (example: if move is 'c2c3', it's a pawn move)\n",
    "def extract_piece_type(move):\n",
    "    return move[0].upper()  # Assuming the first letter denotes the piece, adjust if necessary\n",
    "\n",
    "# Prepare the dataset for Time Model with new features\n",
    "df_games['Piece_Type'] = df_games['Moves'].apply(lambda moves: [extract_piece_type(move) for move in moves])\n",
    "\n",
    "# Convert piece types to numerical values\n",
    "all_piece_types = []\n",
    "for i in range(len(df_games)):\n",
    "    all_piece_types.extend(df_games['Piece_Type'].iloc[i])\n",
    "\n",
    "# Include piece type and game phase in the features\n",
    "X = []\n",
    "for i in range(len(all_moves)):\n",
    "    move_features = list(all_moves[i])  # Start and end square\n",
    "    move_features.append(all_move_numbers[i])  # Add move number\n",
    "    move_features.append(piece_mapping.get(all_piece_types[i], 0))  # Add piece type\n",
    "    game_phase = (all_move_numbers[i] // 10)  # Simplistic game phase determination\n",
    "    move_features.append(game_phase)  # Add game phase\n",
    "    X.append(move_features)\n",
    "\n",
    "# Convert to NumPy array\n",
    "X = np.array(X)\n",
    "\n",
    "# Train a Random Forest Regressor again with the additional features\n",
    "X_train, X_test, y_train, y_test = train_test_split(X, all_move_times, test_size=0.2, random_state=42)\n",
    "\n",
    "rf_time_model = RandomForestRegressor(n_estimators=100, random_state=42)\n",
    "rf_time_model.fit(X_train, y_train)\n",
    "\n",
    "# Evaluate the model\n",
    "time_model_r2 = rf_time_model.score(X_test, y_test)\n",
    "print(f\"Time Model R² Score with Piece Type and Game Phase: {time_model_r2:.2f}\")\n"
   ]
  },
  {
   "cell_type": "code",
   "execution_count": null,
   "metadata": {},
   "outputs": [],
   "source": []
  }
 ],
 "metadata": {
  "kernelspec": {
   "display_name": "Python 3",
   "language": "python",
   "name": "python3"
  },
  "language_info": {
   "codemirror_mode": {
    "name": "ipython",
    "version": 3
   },
   "file_extension": ".py",
   "mimetype": "text/x-python",
   "name": "python",
   "nbconvert_exporter": "python",
   "pygments_lexer": "ipython3",
   "version": "3.12.6"
  }
 },
 "nbformat": 4,
 "nbformat_minor": 2
}
