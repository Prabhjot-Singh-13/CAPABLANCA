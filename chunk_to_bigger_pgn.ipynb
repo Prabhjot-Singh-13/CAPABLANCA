{
 "cells": [
  {
   "cell_type": "code",
   "execution_count": null,
   "metadata": {},
   "outputs": [],
   "source": [
    "\"C:\\Users\\hiddensardar\\Downloads\\Hikaru Nakamura\""
   ]
  },
  {
   "cell_type": "code",
   "execution_count": 3,
   "metadata": {},
   "outputs": [
    {
     "name": "stdout",
     "output_type": "stream",
     "text": [
      "All files have been merged into 'C:\\Users\\hiddensardar\\Documents\\Dataset Chess\\arjun_erigaisi.pgn'.\n"
     ]
    }
   ],
   "source": [
    "import os\n",
    "\n",
    "# containing your PGN files\n",
    "folder_path = r\"C:\\Users\\hiddensardar\\Downloads\\arjun_erigaisi\\arjun_erigaisi\"\n",
    "\n",
    "\n",
    "output_file = r\"C:\\Users\\hiddensardar\\Documents\\Dataset Chess\\arjun_erigaisi.pgn\"\n",
    "\n",
    "# Check  path exists\n",
    "if not os.path.exists(folder_path):\n",
    "    print(f\"The folder path '{folder_path}' does not exist. Please check the path.\")\n",
    "else:\n",
    "    \n",
    "    with open(output_file, 'w', encoding='utf-8') as outfile:\n",
    "        \n",
    "        for filename in os.listdir(folder_path):\n",
    "            # Checking if the file has a .pgn extension\n",
    "            if filename.endswith('.pgn'):\n",
    "                file_path = os.path.join(folder_path, filename)\n",
    "                try:\n",
    "                    # Opening each PGN file / reading its content with UTF-8 encoding\n",
    "                    with open(file_path, 'r', encoding='utf-8') as infile:\n",
    "                        # Writing content to the output \n",
    "                        outfile.write(infile.read())\n",
    "                        # separator between games\n",
    "                        outfile.write(\"\\n\\n\")  # Adds a newline after each game\n",
    "                except Exception as e:\n",
    "                    print(f\"An error  while reading {file_path}: {e}\")\n",
    "    print(f\"All files have been merged into '{output_file}'.\")\n"
   ]
  },
  {
   "cell_type": "code",
   "execution_count": 7,
   "metadata": {},
   "outputs": [
    {
     "name": "stdout",
     "output_type": "stream",
     "text": [
      "File not found: C:\\Users\\hiddensardar\\Downloads\\Hikaru Nakamura\\master_games (70).pgn\n",
      "File not found: C:\\Users\\hiddensardar\\Downloads\\Hikaru Nakamura\\master_games (71).pgn\n",
      "File not found: C:\\Users\\hiddensardar\\Downloads\\Hikaru Nakamura\\master_games.pgn\n",
      "File not found: C:\\Users\\hiddensardar\\Downloads\\Hikaru Nakamura\\master_games (5).pgn\n",
      "File not found: C:\\Users\\hiddensardar\\Downloads\\Hikaru Nakamura\\master_games (34).pgn\n",
      "All files have been merged into 'C:\\Users\\hiddensardar\\Documents\\Dataset Chess\\Merged_Hikaru_Nakamura.pgn'.\n"
     ]
    }
   ],
   "source": [
    "import os\n",
    "\n",
    "# List of .pgn files to merge\n",
    "pgn_files = [\n",
    "    r\"C:\\Users\\hiddensardar\\Downloads\\Hikaru Nakamura\\master_games (70).pgn\",\n",
    "    r\"C:\\Users\\hiddensardar\\Downloads\\Hikaru Nakamura\\master_games (71).pgn\",\n",
    "    r\"C:\\Users\\hiddensardar\\Downloads\\Hikaru Nakamura\\master_games.pgn\",\n",
    "    r\"C:\\Users\\hiddensardar\\Downloads\\Hikaru Nakamura\\master_games (5).pgn\",\n",
    "    r\"C:\\Users\\hiddensardar\\Downloads\\Hikaru Nakamura\\master_games (34).pgn\"\n",
    "]\n",
    "\n",
    "# Output file path\n",
    "output_file = r\"C:\\Users\\hiddensardar\\Documents\\Dataset Chess\\Merged_Hikaru_Nakamura.pgn\"\n",
    "\n",
    "# Open the output file in write mode with UTF-8 encoding\n",
    "with open(output_file, 'w', encoding='utf-8') as outfile:\n",
    "    # Loop through each file and append the content\n",
    "    for file_path in pgn_files:\n",
    "        if os.path.exists(file_path):\n",
    "            try:\n",
    "                with open(file_path, 'r', encoding='utf-8') as infile:\n",
    "                    # Write the content to the output file\n",
    "                    print(f\"Merging file: {file_path}\")\n",
    "                    outfile.write(infile.read())\n",
    "                    outfile.write(\"\\n\\n\")  # Adds space between merged games\n",
    "            except Exception as e:\n",
    "                print(f\"Error reading {file_path}: {e}\")\n",
    "        else:\n",
    "            print(f\"File not found: {file_path}\")\n",
    "\n",
    "print(f\"All files have been merged into '{output_file}'.\")\n"
   ]
  },
  {
   "cell_type": "code",
   "execution_count": 9,
   "metadata": {},
   "outputs": [
    {
     "name": "stdout",
     "output_type": "stream",
     "text": [
      "Files in the folder:\n",
      "Hikaru Nakamura\n"
     ]
    }
   ],
   "source": [
    "import os\n",
    "\n",
    "# Path to the folder containing the .pgn files\n",
    "folder_path = r\"C:\\Users\\hiddensardar\\Downloads\\Hikaru Nakamura\"\n",
    "\n",
    "# List all files in the folder\n",
    "if os.path.exists(folder_path):\n",
    "    print(\"Files in the folder:\")\n",
    "    for filename in os.listdir(folder_path):\n",
    "        print(filename)\n",
    "else:\n",
    "    print(f\"Folder not found: {folder_path}\")\n"
   ]
  },
  {
   "cell_type": "code",
   "execution_count": null,
   "metadata": {},
   "outputs": [],
   "source": [
    "import os\n",
    "import pandas as pd\n",
    "import chess.pgn\n",
    "\n",
    "# Define the folder where all your 20 player folders are located\n",
    "base_folder = '/Users/kalyani/Desktop/AIP/top_20_women_players'\n",
    "\n",
    "# List of player folder names\n",
    "player_folders = [\n",
    "    \"Shakhriyar Mamedyarov\", \"Richard Rapport\", \"Praggnanandhaa Rameshbabu\", \"Parham Maghsoodloo\", \"Nodirbek Abdusattorov\", \n",
    "    \"Maxime Vachier-Lagrave\", \"Levon Aronian\", \"Le Quang Liem\", \"Jan-Krzysztof Duda\", \"Ian Nepomniachtchi\", \n",
    "    \"Hikaru Nakamura\", \"Hans Niemann\", \"Gukesh Dommaraju\", \"Fabiano Caruana\", \"Ding Liren\", \n",
    "    \"Anish Giri\", \"Amin Tabatabaei\", \"Alireza Firouzja\", \"Alexey Sarana\", \"Yu Yangyi\",\n",
    "    \"Vladislav Artemiev\", \"Wang Hao\", \"Wei Yia\", \"Vincent Keymer\", \"Vidit Gujrathi\"\n",
    "]\n",
    "\n",
    "# Loop through each folder (player)\n",
    "for player_folder in player_folders:\n",
    "    pgn_folder = os.path.join(base_folder, player_folder)\n",
    "    output_csv_file = os.path.join(base_folder, f\"{player_folder}.csv\")\n",
    "    \n",
    "    games_data = []\n",
    "    \n",
    "    # Loop through each file in the player's folder\n",
    "    for file in os.listdir(pgn_folder):\n",
    "        if file.endswith('.pgn'):\n",
    "            file_path = os.path.join(pgn_folder, file)\n",
    "            \n",
    "            # Open and read the PGN file\n",
    "            with open(file_path, 'r') as infile:\n",
    "                while True:\n",
    "                    game = chess.pgn.read_game(infile)\n",
    "                    if game is None:\n",
    "                        break\n",
    "                    \n",
    "                    # Extract relevant game information\n",
    "                    game_info = {\n",
    "                        'Event': game.headers.get('Event', ''),\n",
    "                        'Date': game.headers.get('Date', ''),\n",
    "                        'White': game.headers.get('White', ''),\n",
    "                        'Black': game.headers.get('Black', ''),\n",
    "                        'Result': game.headers.get('Result', ''),\n",
    "                        'Round': game.headers.get('Round', ''),\n",
    "                        'TimeControl': game.headers.get('TimeControl', ''),\n",
    "                        'WhiteFideId': game.headers.get('WhiteFideId', ''),\n",
    "                        'BlackFideId': game.headers.get('BlackFideId', ''),\n",
    "                        'WhiteElo': game.headers.get('WhiteElo', ''),\n",
    "                        'BlackElo': game.headers.get('BlackElo', ''),\n",
    "                        'WhiteClock': game.headers.get('WhiteClock', ''),\n",
    "                        'BlackClock': game.headers.get('BlackClock', ''),\n",
    "                        # Collect all moves into one string\n",
    "                        'Moves': \" \".join(str(move) for move in game.mainline_moves())\n",
    "                    }\n",
    "                    \n",
    "                    # Append the game information to the list\n",
    "                    games_data.append(game_info)\n",
    "    \n",
    "    # Create a DataFrame from the game data\n",
    "    df = pd.DataFrame(games_data)\n",
    "    \n",
    "    # Save the DataFrame to a CSV file\n",
    "    df.to_csv(output_csv_file, index=False)\n",
    "    \n",
    "    print(f\"Converted {player_folder} PGN files to CSV and saved to {output_csv_file}\")\n",
    "\n",
    "print(\"All PGN files have been converted to CSV.\")"
   ]
  },
  {
   "cell_type": "code",
   "execution_count": null,
   "metadata": {},
   "outputs": [],
   "source": []
  }
 ],
 "metadata": {
  "kernelspec": {
   "display_name": "Python 3",
   "language": "python",
   "name": "python3"
  },
  "language_info": {
   "codemirror_mode": {
    "name": "ipython",
    "version": 3
   },
   "file_extension": ".py",
   "mimetype": "text/x-python",
   "name": "python",
   "nbconvert_exporter": "python",
   "pygments_lexer": "ipython3",
   "version": "3.12.6"
  }
 },
 "nbformat": 4,
 "nbformat_minor": 2
}
